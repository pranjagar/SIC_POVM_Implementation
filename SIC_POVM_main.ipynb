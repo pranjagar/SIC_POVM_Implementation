{
 "cells": [
  {
   "cell_type": "code",
   "execution_count": 1,
   "metadata": {},
   "outputs": [
    {
     "name": "stdout",
     "output_type": "stream",
     "text": [
      "[(6+0j), (6+0j), (2.4+0j), (2.5999999999999996+1.637849848627056e-17j), (2.287500258169+0j), (2.4+2.2311252215006176e-17j), (2.4-2.576281494458285e-17j), (2.3000000000000003-4.125283626344832e-18j), (2.587500258169+0j)]\n"
     ]
    },
    {
     "name": "stderr",
     "output_type": "stream",
     "text": [
      "/Library/Frameworks/Python.framework/Versions/3.11/lib/python3.11/site-packages/scipy/optimize/_minpack_py.py:239: ComplexWarning: Casting complex values to real discards the imaginary part\n",
      "  retval = _minpack._hybrd(func, x0, args, 1, xtol, maxfev,\n",
      "/Library/Frameworks/Python.framework/Versions/3.11/lib/python3.11/site-packages/scipy/optimize/_minpack_py.py:177: RuntimeWarning: The iteration is not making good progress, as measured by the \n",
      "  improvement from the last five Jacobian evaluations.\n",
      "  warnings.warn(msg, RuntimeWarning)\n"
     ]
    }
   ],
   "source": [
    "import sympy as sym\n",
    "import math as m\n",
    "import numpy as np\n",
    "import pandas as pd\n",
    "\n",
    "\n",
    "import scipy.optimize\n",
    "from sympy import pprint\n",
    "from scipy.optimize import fsolve\n",
    "from scipy.optimize import least_squares\n",
    "from scipy.optimize import minimize\n",
    "\n",
    "\n",
    "import numpy as np\n",
    "import matplotlib.pyplot as plt\n",
    "from sklearn.cluster import KMeans\n",
    "from sklearn.decomposition import PCA\n",
    "from sklearn.metrics import silhouette_score\n",
    "\n",
    "from sklearn.neighbors import KNeighborsClassifier\n",
    "from sklearn.decomposition import PCA\n",
    "import matplotlib.pyplot as plt\n",
    "\n",
    "import SIC_POVM_functions as sic\n",
    "\n",
    "import warnings\n",
    "warnings.filterwarnings(\"ignore\", category=RuntimeWarning)\n"
   ]
  },
  {
   "cell_type": "code",
   "execution_count": 2,
   "metadata": {},
   "outputs": [],
   "source": [
    "#Class definitions\n",
    "class seed_sol:\n",
    "    def __init__(self, seed):\n",
    "        self.seed = seed\n",
    "    @property\n",
    "    def initial_guess(self):\n",
    "        np.random.seed(self.seed)\n",
    "        initial_guess = np.random.rand(35)  # random initial guess\n",
    "        return initial_guess\n",
    "    @property\n",
    "    def solution(self):\n",
    "        solution = fsolve(Lagrange_eqs, self.initial_guess)\n",
    "        return solution\n",
    "    @property\n",
    "    def res_list(self):\n",
    "        res_list = Lagrange_eqs(self.solution)\n",
    "        return res_list\n",
    "    @property\n",
    "    def res(self):\n",
    "        res = np.sum(np.abs(self.res_list))\n",
    "        return res\n",
    "\n",
    "\n",
    "class POVM_relations:\n",
    "    def __init__(self, POVM_vec_list):\n",
    "        self.POVM_vec_list = POVM_vec_list\n",
    "        self.inner_products = {}\n",
    "    \n",
    "    def dot_product(self, i, j):\n",
    "        return np.vdot(self.POVM_vec_list[i], self.POVM_vec_list[j])\n",
    "\n",
    "    @property\n",
    "    def all(self):\n",
    "        if len(self.POVM_vec_list) != 9:\n",
    "            raise ValueError('The POVM list must have 9 elements')\n",
    "        for i in range(9):\n",
    "            for j in range(i, 9):\n",
    "                key = f'{i+1}{j+1}'\n",
    "                value = self.dot_product(i, j)\n",
    "                self.inner_products[key] = value\n",
    "                # if abs(value) < 1e-18:\n",
    "                    # self.inner_products[key] = 0\n",
    "        return self.inner_products"
   ]
  },
  {
   "cell_type": "code",
   "execution_count": 7,
   "metadata": {},
   "outputs": [
    {
     "data": {
      "text/plain": [
       "[0, 1, -1, 2, 0]"
      ]
     },
     "execution_count": 7,
     "metadata": {},
     "output_type": "execute_result"
    }
   ],
   "source": [
    "# creating five lists POVMs\n",
    "w = m.e**((2/3)*m.pi*(1j))     # third root of unity\n",
    "POVM_unnormalized = [[0,1,-1],[-1,0,1],[1,-1,0],[0,w,-w**2],[-1,0,w**2],[1,-w,0],[0,w**2,-w],[-1,0,w],[1,-w**2,0]]             # unnormalized POVM direction vectors\n",
    "POVM_vec = (1/(2**.5))*(np.array([[0,1,-1],[-1,0,1],[1,-1,0],[0,w,-w**2],[-1,0,w**2],[1,-w,0],[0,w**2,-w],[-1,0,w],[1,-w**2,0]]))  # normalized POVM direction vectors\n",
    "\n",
    "c4j_list = [2,.5,.5,.5, (-.25-.433013j), -.25, .5, -.25, (-.25-.433013j)]           # fourth elements, not normalized yet. See sic.py for calcs\n",
    "c5j_list = [0, np.sqrt(15)/2 , 0.38729833462074165, (-0.38729833462074176-0.44721359549995776j), -0.19364916731037082, 0.5809475019311124, -0.38729833462074165, (-0.19364916731037093-0.4472135954999579j), 0.5809475019311124]\n",
    "\n",
    "POVM_unnormalized_5d = []\n",
    "for i in range(len(POVM_unnormalized)):\n",
    "\t# Directly append c4j_list[i] and c5j_list[i] to the copies of lists in POVM_unnormalized\n",
    "\tvec_5d_i = POVM_unnormalized[i] + [c4j_list[i], c5j_list[i]]\n",
    "\tPOVM_unnormalized_5d.append(vec_5d_i)\n",
    "\n",
    "POVM_unnormalized_5d[0]    ## unnormalized 5-lists POVM vectors"
   ]
  },
  {
   "cell_type": "code",
   "execution_count": 10,
   "metadata": {},
   "outputs": [],
   "source": [
    "# delta_five= [0.400000000000000, 0.433333333333333, 0.381250043028167, 0.400000000000000, 0.400000000000000, 0.383333333333333, 0.431250043028167]\n",
    "delta_five  = [0.400000000000000, 0.433333333333333, 0.381250043028167, 0.400000000000000, 0.400000000000000, 0.383333333333333, 0.431250043028167]"
   ]
  },
  {
   "cell_type": "code",
   "execution_count": null,
   "metadata": {},
   "outputs": [],
   "source": []
  },
  {
   "cell_type": "code",
   "execution_count": 11,
   "metadata": {},
   "outputs": [
    {
     "name": "stdout",
     "output_type": "stream",
     "text": [
      "Solution to the system: [ 1.67970220e-02 -1.63237712e-02  1.70574559e-02 -1.67970220e-02\n",
      " -1.67970220e-02  1.70287160e-02  1.63537502e-02  1.68243798e-02\n",
      " -1.63503582e-02  1.70852378e-02 -1.68243798e-02 -1.68243798e-02\n",
      "  1.70564512e-02  1.63803860e-02  7.74044343e-01 -7.52235888e-01\n",
      "  7.86045719e-01 -7.74044343e-01 -7.74044343e-01  7.84721321e-01\n",
      "  7.53617378e-01  1.70339505e-02 -1.65540244e-02  1.72980579e-02\n",
      " -1.70339505e-02 -1.70339504e-02  1.72689125e-02  1.65844257e-02\n",
      " -6.12712937e-25  1.02899151e+00 -2.77445120e-02  1.04367945e+00\n",
      "  4.36794495e-02  9.43308780e-01 -5.90310284e-02]\n",
      "Residuals: [-1.0291752664914375e-26, 3.642919299551295e-16, -7.043804016622357e-13, -2.1128713362239537e-11, -2.0709264056222032e-11, -2.4828090972039973e-12, -1.1790536754395509e-11, -1.0308515143749554e-26, 3.5388358909926865e-16, -7.004946210760477e-13, -2.1012247497509406e-11, -2.0588722783945745e-11, -2.467883536416693e-12, -1.1720086056168921e-11, -4.742669829629579e-25, 4.440892098500626e-16, -2.6107588313450947e-14, 3.806510662229812e-12, 7.978291638455204e-12, 2.3647750424515834e-12, -3.0097452308197603e-12, -1.0436921871305964e-26, -2.706168622523819e-16, 5.023317916144632e-13, 1.5102238903885734e-11, 2.0332823207243333e-11, 2.5160186434280973e-12, 1.2726320431505345e-11, -4.440892098500626e-16, -2.7755575615628914e-15, 2.0721646620813772e-11, -6.0208504848446864e-12, -2.6184387991179392e-11, -6.131029017808487e-11, 2.633517848238398e-10]\n",
      "Residuals sum: 5.592639139339125e-10\n"
     ]
    }
   ],
   "source": [
    "def Lagrange_eqs(vars):\n",
    "    # Unpacking variables, C63 to C99 and y3 to y9\n",
    "    C63, C64, C65, C66, C67, C68, C69,  C73, C74, C75, C76, C77, C78, C79,  C83, C84, C85, C86, C87, C88, C89,  C93, C94, C95, C96, C97, C98, C99,  y3, y4, y5, y6, y7, y8, y9 = vars\n",
    "    global delta_five\n",
    "    delta_33, delta_44, delta_55, delta_66, delta_77, delta_88, delta_99 = delta_five\n",
    "\n",
    "    # Full set of 28 equations for Cij terms, based on previous interactions\n",
    "    equations = [\n",
    "        # Derivatives with respect to C63 to C69\n",
    "        np.conj(C63)*y3, np.conj(C63) + np.conj(C64)*y4, np.conj(C63) + np.conj(C64) + np.conj(C65)*y5, np.conj(C63) + np.conj(C64) + np.conj(C65) + np.conj(C66)*y6,\n",
    "        np.conj(C63) + np.conj(C64) + np.conj(C65) + np.conj(C66) + np.conj(C67)*y7,\n",
    "        np.conj(C63) + np.conj(C64) + np.conj(C65) + np.conj(C66) + np.conj(C67) + np.conj(C68)*y8,\n",
    "        np.conj(C63) + np.conj(C64) + np.conj(C65) + np.conj(C66) + np.conj(C67) + np.conj(C68) + np.conj(C69)*y9,\n",
    "        # Continue with C73 to C79\n",
    "        \n",
    "        # Derivatives with respect to C73 to C79\n",
    "        np.conj(C73)*y3, np.conj(C73) + np.conj(C74)*y4, np.conj(C73) + np.conj(C74) + np.conj(C75)*y5, np.conj(C73) + np.conj(C74) + np.conj(C75) + np.conj(C76)*y6,\n",
    "        np.conj(C73) + np.conj(C74) + np.conj(C75) + np.conj(C76) + np.conj(C77)*y7,\n",
    "        np.conj(C73) + np.conj(C74) + np.conj(C75) + np.conj(C76) + np.conj(C77) + np.conj(C78)*y8,\n",
    "        np.conj(C73) + np.conj(C74) + np.conj(C75) + np.conj(C76) + np.conj(C77) + np.conj(C78) + np.conj(C79)*y9,\n",
    "\n",
    "        # Derivatives with respect to C83 to C89\n",
    "        np.conj(C83)*y3, np.conj(C83) + np.conj(C84)*y4, np.conj(C83) + np.conj(C84) + np.conj(C85)*y5, np.conj(C83) + np.conj(C84) + np.conj(C85) + np.conj(C86)*y6,\n",
    "        np.conj(C83) + np.conj(C84) + np.conj(C85) + np.conj(C86) + np.conj(C87)*y7,\n",
    "        np.conj(C83) + np.conj(C84) + np.conj(C85) + np.conj(C86) + np.conj(C87) + np.conj(C88)*y8,\n",
    "        np.conj(C83) + np.conj(C84) + np.conj(C85) + np.conj(C86) + np.conj(C87) + np.conj(C88) + np.conj(C89)*y9,\n",
    "        # Derivatives with respect to C93 to C99\n",
    "        np.conj(C93)*y3, np.conj(C93) + np.conj(C94)*y4, np.conj(C93) + np.conj(C94) + np.conj(C95)*y5, np.conj(C93) + np.conj(C94) + np.conj(C95) + np.conj(C96)*y6,\n",
    "        np.conj(C93) + np.conj(C94) + np.conj(C95) + np.conj(C96) + np.conj(C97)*y7,\n",
    "        np.conj(C93) + np.conj(C94) + np.conj(C95) + np.conj(C96) + np.conj(C97) + np.conj(C98)*y8,\n",
    "        np.conj(C93) + np.conj(C94) + np.conj(C95) + np.conj(C96) + np.conj(C97) + np.conj(C98) + np.conj(C99)*y9,\n",
    "        #Now the normalization equations\n",
    "        abs(C63)**2 + abs(C73)**2 + abs(C83)**2 + abs(C93)**2 + delta_33 - 1,abs(C64)**2 + abs(C74)**2 + abs(C84)**2 + abs(C94)**2 + delta_44 - 1,\n",
    "        abs(C65)**2 + abs(C75)**2 + abs(C85)**2 + abs(C95)**2 + delta_55 - 1,abs(C66)**2 + abs(C76)**2 + abs(C86)**2 + abs(C96)**2 + delta_66 - 1,\n",
    "        abs(C67)**2 + abs(C77)**2 + abs(C87)**2 + abs(C97)**2 + delta_77 - 1,abs(C68)**2 + abs(C78)**2 + abs(C88)**2 + abs(C98)**2 + delta_88 - 1,\n",
    "        abs(C69)**2 + abs(C79)**2 + abs(C89)**2 + abs(C99)**2 + delta_99 - 1\n",
    "    ]\n",
    "\n",
    "    assert len(equations) == 35\n",
    "    return equations\n",
    "\n",
    "# Example Usage:\n",
    "initial_guess = [0.2] * 15 + [-.2]*15 + [0.1] * 5   # Initial guess for the variables (Cij real and imaginary parts, y)\n",
    "solution = fsolve(Lagrange_eqs, initial_guess)\n",
    "residuals = Lagrange_eqs(solution)                   # residuals and residues sum\n",
    "residuals_sum = np.sum(np.abs(residuals))\n",
    "\n",
    "print(\"Solution to the system:\", solution)\n",
    "print(\"Residuals:\", residuals)\n",
    "print(\"Residuals sum:\", residuals_sum)"
   ]
  },
  {
   "cell_type": "code",
   "execution_count": 7,
   "metadata": {},
   "outputs": [],
   "source": [
    "# Example Usage:\n",
    "for i in range(10):\n",
    "    np.random.seed(i)\n",
    "    initial_guess = np.concatenate(([0], np.random.rand(6), [0], np.random.rand(6), [0], np.random.rand(6), [0], np.random.rand(6), np.random.rand(7)))\n",
    "\n",
    "    solution = fsolve(Lagrange_eqs, initial_guess)\n",
    "    residuals = Lagrange_eqs(solution)                   # residuals and residues sum\n",
    "    residuals_sum = np.sum(np.abs(residuals))\n",
    "\n",
    "    if residuals_sum < 1e-13:\n",
    "        print(\"Seed:\", i)\n",
    "        print(\"Residuals sum:\", residuals_sum)\n",
    "        print(\"Solution to the system:\", solution)\n",
    "\n",
    "# print(\"Solution to the system:\", solution)\n",
    "# print(\"Residuals:\", residuals)\n",
    "# print(\"Residuals sum:\", residuals_sum)"
   ]
  },
  {
   "cell_type": "markdown",
   "metadata": {},
   "source": [
    "Working. Now, conducting numerous trials using random initial points and filtering out the best outcomes. Then, converting those results into class objects for analysis."
   ]
  },
  {
   "cell_type": "code",
   "execution_count": null,
   "metadata": {},
   "outputs": [],
   "source": [
    "seed_res_list = []\n",
    "for i in range(1500):\n",
    "    np.random.seed(i)\n",
    "    initial_guess = np.random.rand(35)  # random initial guess\n",
    "    solution = fsolve(Lagrange_eqs, initial_guess)\n",
    "    residuals = Lagrange_eqs(solution)\n",
    "    residuals_sum = np.sum(np.abs(residuals))\n",
    "    if residuals_sum < 1e-11:\n",
    "        seed_res_list.append((residuals_sum, i))\n",
    "    seed_res_list.sort()            # sorted in order of increasing residue sum\n",
    "\n",
    "seed_list = [i[1] for i in seed_res_list]   # create seed list for later use in class objects\n",
    "sol_list = [seed_sol(i) for i in seed_list]  # storing class objects, list containing all good solutions as class instances"
   ]
  },
  {
   "cell_type": "code",
   "execution_count": null,
   "metadata": {},
   "outputs": [],
   "source": [
    "# doing some clustering to know if the points are close by or far especially the lambda points\n",
    "\n",
    "\n",
    "points = []\n",
    "for i in range(len(sol_list)):\n",
    "    lambdas_point = sorted(abs(sol_list[i].solution()[-7:]))\n",
    "    points.append(lambdas_point)\n",
    "\n",
    "data = points  \n",
    "# Using the Elbow Method to find the optimal number of clusters\n",
    "wcss = []  # Within-cluster sum of squares\n",
    "for i in range(1, 11):\n",
    "\tkmeans = KMeans(n_clusters=i, init='k-means++', max_iter=300, n_init=10, random_state=42)\n",
    "\tkmeans.fit(data)\n",
    "\twcss.append(kmeans.inertia_)\n",
    "\n",
    "# Plotting the results of the Elbow Method\n",
    "plt.figure(figsize=(10, 7))\n",
    "plt.plot(range(1, 11), wcss)\n",
    "plt.title('Elbow Method')\n",
    "plt.xlabel('Number of clusters')\n",
    "plt.ylabel('WCSS')  # Within cluster sum of squares\n",
    "plt.show()\n",
    "\n",
    "# Choose the number of clusters based on the elbow point from the plot\n",
    "# For this example, let's assume the optimal number is 3 (this should be chosen based on the plot)\n",
    "optimal_clusters = 5\n",
    "kmeans_optimal = KMeans(n_clusters=optimal_clusters, init='k-means++', max_iter=300, n_init=10, random_state=42)\n",
    "kmeans_optimal.fit(data)\n",
    "\n",
    "# Reducing dimensions for visualization using PCA\n",
    "pca = PCA(n_components=2)\n",
    "X_pca = pca.fit_transform(data)\n",
    "\n",
    "# Plotting the results\n",
    "plt.figure(figsize=(10, 7))\n",
    "plt.scatter(X_pca[:, 0], X_pca[:, 1], c=kmeans_optimal.labels_, cmap='viridis', edgecolor='k', s=100)\n",
    "plt.title(\"Visualization of 9D data in 2D using PCA\")\n",
    "plt.xlabel(\"Principal Component 1\")\n",
    "plt.ylabel(\"Principal Component 2\")\n",
    "plt.colorbar(label='Cluster Label')\n",
    "plt.show()\n",
    "\n",
    "# Printing the number of centers\n",
    "print(f\"Number of centers (clusters) found: {optimal_clusters}\")\n",
    "\n",
    "# After fitting the KMeans model to the data\n",
    "labels = kmeans_optimal.labels_\n",
    "\n",
    "# Count the number of points in each cluster\n",
    "cluster_counts = np.bincount(labels)\n",
    "\n",
    "# Print the counts\n",
    "for i, count in enumerate(cluster_counts):\n",
    "\tprint(f\"Cluster {i}: {count} points\")\n",
    "\n"
   ]
  },
  {
   "cell_type": "code",
   "execution_count": 22,
   "metadata": {},
   "outputs": [
    {
     "name": "stdout",
     "output_type": "stream",
     "text": [
      "[0, 1, -1, 2, 0, 0, 0, 0, 0]\n",
      "[-1, 0, 1, 0.5, 1.9364916731037085, 0, 0, 0, 0]\n",
      "[1, -1, 0, 0.5, 0.38729833462074165, 0.41811259608007384]\n",
      "[0, (-0.49999999999999983+0.8660254037844387j), (0.5000000000000002+0.8660254037844384j), 0.5, (-0.38729833462074176-0.44721359549995776j), -0.40633240572863255]\n",
      "[9, 9, 6, 6, 6, 6, 6, 6, 6]\n"
     ]
    }
   ],
   "source": [
    "#verifying a solution by checking dot product relations, say for seed = 1254\n",
    "sol_1254 = seed_sol(1254).solution\n",
    "solution = sol_1254\n",
    "# adding to the 5-lists POVM vectors, the first 28 elements of the solution, position wise\n",
    "\n",
    "POVM_unnormalized_9d = []\n",
    "POVM_unnormalized_9d = [i for i in POVM_unnormalized_5d]\n",
    "POVM_unnormalized_9d[0] = POVM_unnormalized_5d[0]+ [0,0,0,0]\n",
    "POVM_unnormalized_9d[1] = POVM_unnormalized_5d[1]+ [0,0,0,0]\n",
    "\n",
    "\n",
    "for j in range(4):                  # kinda segementing the 28 elements into 4 groups of 7 elements each\n",
    "    for i in range(7):\n",
    "        POVM_unnormalized_9d[i+2] = POVM_unnormalized_5d[i+2] + [solution[7*j + i]]      # iteratively adding the 7 solutions to the 5-lists POVM vectors over four iterations\n",
    "\n",
    "print(POVM_unnormalized_9d[0]    )\n",
    "print(POVM_unnormalized_9d[1]    )\n",
    "print(POVM_unnormalized_9d[2]    )\n",
    "print(POVM_unnormalized_9d[3]    )\n",
    "\n",
    "\n",
    "print([len(i) for i in POVM_unnormalized_9d])\n",
    "\n",
    "\n",
    "\n",
    "# POVM_9D = (1/np.sqrt(6))*np.array(POVM_unnormalized_9d)   # normalizing the 9D POVM vectors by dividing by sqrt(6), see notes\n",
    "# POVM_9D[0]\n"
   ]
  },
  {
   "cell_type": "code",
   "execution_count": 25,
   "metadata": {},
   "outputs": [
    {
     "name": "stdout",
     "output_type": "stream",
     "text": [
      "[1, -1, 0, 0.5, 0.38729833462074165, 0.2999465851496958, 0.32615612749817663, 0.4783681464642169, 0.41811259608007384]\n",
      "[0, (-0.49999999999999983+0.8660254037844387j), (0.5000000000000002+0.8660254037844384j), 0.5, (-0.38729833462074176-0.44721359549995776j), -0.2914956848384994, -0.3169667816084832, -0.4648902750098601, -0.40633240572863255]\n"
     ]
    }
   ],
   "source": [
    "sol_1254 = seed_sol(1254).solution\n",
    "solution = sol_1254\n",
    "#break solution into 4 parts, remove the last 7 elements\n",
    "solution_add = [solution[:7], solution[7:14], solution[14:21], solution[21:28]]     # 4 parts of the solution\n",
    "\n",
    "# Extended list creation\n",
    "POVM_unnormalized_9d = [list(i) for i in POVM_unnormalized_5d]         # deep copy \n",
    "\n",
    "# Fill the first two vectors with zeros to make them 9D\n",
    "for i in range(2):\n",
    "    POVM_unnormalized_9d[i].extend([0] *4)\n",
    "\n",
    "for part in solution_add:\n",
    "    for i in range(7):\n",
    "        POVM_unnormalized_9d[i+2].append(part[i])\n",
    "\n",
    "\n",
    "\n",
    "# print(POVM_unnormalized_5d[0])\n",
    "# print(POVM_unnormalized_5d[1])\n",
    "# print(POVM_unnormalized_5d[2])\n",
    "\n",
    "# print(POVM_unnormalized_9d[0])\n",
    "# print(POVM_unnormalized_9d[1])\n",
    "print(POVM_unnormalized_9d[2])\n",
    "print(POVM_unnormalized_9d[3])\n"
   ]
  },
  {
   "cell_type": "code",
   "execution_count": 24,
   "metadata": {},
   "outputs": [
    {
     "data": {
      "text/plain": [
       "array([ 0.29994659, -0.29149568, -0.30459719,  0.29994659,  0.29994659,\n",
       "       -0.30408397, -0.29203102,  0.32615613, -0.31696678, -0.3312131 ,\n",
       "        0.32615613,  0.32615613, -0.33065505, -0.31754889,  0.47836815,\n",
       "       -0.46489028, -0.48578513,  0.47836815,  0.47836815, -0.48496664,\n",
       "       -0.46574405,  0.4181126 , -0.40633241, -0.42459533,  0.4181126 ,\n",
       "        0.4181126 , -0.42387994, -0.40707864])"
      ]
     },
     "execution_count": 24,
     "metadata": {},
     "output_type": "execute_result"
    }
   ],
   "source": [
    "solution[:28]"
   ]
  }
 ],
 "metadata": {
  "kernelspec": {
   "display_name": "Python 3",
   "language": "python",
   "name": "python3"
  },
  "language_info": {
   "codemirror_mode": {
    "name": "ipython",
    "version": 3
   },
   "file_extension": ".py",
   "mimetype": "text/x-python",
   "name": "python",
   "nbconvert_exporter": "python",
   "pygments_lexer": "ipython3",
   "version": "3.11.4"
  }
 },
 "nbformat": 4,
 "nbformat_minor": 2
}
