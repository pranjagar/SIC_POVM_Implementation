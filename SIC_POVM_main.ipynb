{
 "cells": [
  {
   "cell_type": "code",
   "execution_count": 29,
   "metadata": {},
   "outputs": [],
   "source": [
    "import sympy as sym\n",
    "import math as m\n",
    "import numpy as np\n",
    "import pandas as pd\n",
    "\n",
    "import scipy.optimize\n",
    "from sympy import pprint\n",
    "from scipy.optimize import fsolve\n",
    "from scipy.optimize import least_squares\n",
    "from scipy.optimize import minimize\n",
    "\n",
    "from sklearn.neighbors import KNeighborsClassifier\n",
    "from sklearn.decomposition import PCA\n",
    "import matplotlib.pyplot as plt\n",
    "\n",
    "import SIC_POVM_functions as sic\n",
    "\n",
    "import warnings\n",
    "warnings.filterwarnings(\"ignore\", category=RuntimeWarning)\n"
   ]
  },
  {
   "cell_type": "code",
   "execution_count": 4,
   "metadata": {},
   "outputs": [],
   "source": [
    "class seed_sol:\n",
    "    def __init__(self, seed):\n",
    "        self.seed = seed\n",
    "    #defining the methods to find the solution, residuals and the sum of residuals\n",
    "    def solution(self):\n",
    "        solution = fsolve(system_of_equations, self.initial_guess)\n",
    "        return solution\n",
    "    def res_list(self):\n",
    "        res_list = system_of_equations(self.solution())\n",
    "        return res_list\n",
    "    @property\n",
    "    def initial_guess(self):\n",
    "        np.random.seed(self.seed)\n",
    "        initial_guess = np.random.rand(35)  # random initial guess\n",
    "        return initial_guess\n",
    "    @property\n",
    "    def res(self):\n",
    "        res = np.sum(np.abs(self.residuals))\n",
    "        return res\n"
   ]
  },
  {
   "cell_type": "code",
   "execution_count": 15,
   "metadata": {},
   "outputs": [],
   "source": [
    "# delta_five= [0.400000000000000, 0.433333333333333, 0.381250043028167, 0.400000000000000, 0.400000000000000, 0.383333333333333, 0.431250043028167]\n",
    "delta_five  = [0.400000000000000, 0.433333333333333, 0.381250043028167, 0.400000000000000, 0.400000000000000, 0.383333333333333, 0.431250043028167]"
   ]
  },
  {
   "cell_type": "code",
   "execution_count": null,
   "metadata": {},
   "outputs": [],
   "source": []
  },
  {
   "cell_type": "code",
   "execution_count": null,
   "metadata": {},
   "outputs": [],
   "source": []
  },
  {
   "cell_type": "code",
   "execution_count": 18,
   "metadata": {},
   "outputs": [
    {
     "name": "stdout",
     "output_type": "stream",
     "text": [
      "Solution to the system: [ 1.67970220e-02 -1.63237712e-02  1.70574559e-02 -1.67970220e-02\n",
      " -1.67970220e-02  1.70287160e-02  1.63537502e-02  1.68243798e-02\n",
      " -1.63503582e-02  1.70852378e-02 -1.68243798e-02 -1.68243798e-02\n",
      "  1.70564512e-02  1.63803860e-02  7.74044343e-01 -7.52235888e-01\n",
      "  7.86045719e-01 -7.74044343e-01 -7.74044343e-01  7.84721321e-01\n",
      "  7.53617378e-01  1.70339505e-02 -1.65540244e-02  1.72980579e-02\n",
      " -1.70339505e-02 -1.70339504e-02  1.72689125e-02  1.65844257e-02\n",
      " -6.12712937e-25  1.02899151e+00 -2.77445120e-02  1.04367945e+00\n",
      "  4.36794495e-02  9.43308780e-01 -5.90310284e-02]\n",
      "Residuals: [-1.0291752664914375e-26, 3.642919299551295e-16, -7.043804016622357e-13, -2.1128713362239537e-11, -2.0709264056222032e-11, -2.4828090972039973e-12, -1.1790536754395509e-11, -1.0308515143749554e-26, 3.5388358909926865e-16, -7.004946210760477e-13, -2.1012247497509406e-11, -2.0588722783945745e-11, -2.467883536416693e-12, -1.1720086056168921e-11, -4.742669829629579e-25, 4.440892098500626e-16, -2.6107588313450947e-14, 3.806510662229812e-12, 7.978291638455204e-12, 2.3647750424515834e-12, -3.0097452308197603e-12, -1.0436921871305964e-26, -2.706168622523819e-16, 5.023317916144632e-13, 1.5102238903885734e-11, 2.0332823207243333e-11, 2.5160186434280973e-12, 1.2726320431505345e-11, -4.440892098500626e-16, -2.7755575615628914e-15, 2.0721646620813772e-11, -6.0208504848446864e-12, -2.6184387991179392e-11, -6.131029017808487e-11, 2.633517848238398e-10]\n",
      "Residuals sum: 5.592639139339125e-10\n"
     ]
    }
   ],
   "source": [
    "def Lagrange_eqs(vars):\n",
    "    # Unpacking variables, C63 to C99 and y3 to y9\n",
    "    C63, C64, C65, C66, C67, C68, C69,  C73, C74, C75, C76, C77, C78, C79,  C83, C84, C85, C86, C87, C88, C89,  C93, C94, C95, C96, C97, C98, C99,  y3, y4, y5, y6, y7, y8, y9 = vars\n",
    "    global delta_five\n",
    "    delta_33, delta_44, delta_55, delta_66, delta_77, delta_88, delta_99 = delta_five\n",
    "\n",
    "    # Full set of 28 equations for Cij terms, based on previous interactions\n",
    "    equations = [\n",
    "        # Derivatives with respect to C63 to C69\n",
    "        np.conj(C63)*y3, np.conj(C63) + np.conj(C64)*y4, np.conj(C63) + np.conj(C64) + np.conj(C65)*y5, np.conj(C63) + np.conj(C64) + np.conj(C65) + np.conj(C66)*y6,\n",
    "        np.conj(C63) + np.conj(C64) + np.conj(C65) + np.conj(C66) + np.conj(C67)*y7,\n",
    "        np.conj(C63) + np.conj(C64) + np.conj(C65) + np.conj(C66) + np.conj(C67) + np.conj(C68)*y8,\n",
    "        np.conj(C63) + np.conj(C64) + np.conj(C65) + np.conj(C66) + np.conj(C67) + np.conj(C68) + np.conj(C69)*y9,\n",
    "        # Continue with C73 to C79\n",
    "        \n",
    "        # Derivatives with respect to C73 to C79\n",
    "        np.conj(C73)*y3, np.conj(C73) + np.conj(C74)*y4, np.conj(C73) + np.conj(C74) + np.conj(C75)*y5, np.conj(C73) + np.conj(C74) + np.conj(C75) + np.conj(C76)*y6,\n",
    "        np.conj(C73) + np.conj(C74) + np.conj(C75) + np.conj(C76) + np.conj(C77)*y7,\n",
    "        np.conj(C73) + np.conj(C74) + np.conj(C75) + np.conj(C76) + np.conj(C77) + np.conj(C78)*y8,\n",
    "        np.conj(C73) + np.conj(C74) + np.conj(C75) + np.conj(C76) + np.conj(C77) + np.conj(C78) + np.conj(C79)*y9,\n",
    "\n",
    "        # Derivatives with respect to C83 to C89\n",
    "        np.conj(C83)*y3, np.conj(C83) + np.conj(C84)*y4, np.conj(C83) + np.conj(C84) + np.conj(C85)*y5, np.conj(C83) + np.conj(C84) + np.conj(C85) + np.conj(C86)*y6,\n",
    "        np.conj(C83) + np.conj(C84) + np.conj(C85) + np.conj(C86) + np.conj(C87)*y7,\n",
    "        np.conj(C83) + np.conj(C84) + np.conj(C85) + np.conj(C86) + np.conj(C87) + np.conj(C88)*y8,\n",
    "        np.conj(C83) + np.conj(C84) + np.conj(C85) + np.conj(C86) + np.conj(C87) + np.conj(C88) + np.conj(C89)*y9,\n",
    "        # Derivatives with respect to C93 to C99\n",
    "        np.conj(C93)*y3, np.conj(C93) + np.conj(C94)*y4, np.conj(C93) + np.conj(C94) + np.conj(C95)*y5, np.conj(C93) + np.conj(C94) + np.conj(C95) + np.conj(C96)*y6,\n",
    "        np.conj(C93) + np.conj(C94) + np.conj(C95) + np.conj(C96) + np.conj(C97)*y7,\n",
    "        np.conj(C93) + np.conj(C94) + np.conj(C95) + np.conj(C96) + np.conj(C97) + np.conj(C98)*y8,\n",
    "        np.conj(C93) + np.conj(C94) + np.conj(C95) + np.conj(C96) + np.conj(C97) + np.conj(C98) + np.conj(C99)*y9,\n",
    "        #Now the normalization equations\n",
    "        abs(C63)**2 + abs(C73)**2 + abs(C83)**2 + abs(C93)**2 + delta_33 - 1,abs(C64)**2 + abs(C74)**2 + abs(C84)**2 + abs(C94)**2 + delta_44 - 1,\n",
    "        abs(C65)**2 + abs(C75)**2 + abs(C85)**2 + abs(C95)**2 + delta_55 - 1,abs(C66)**2 + abs(C76)**2 + abs(C86)**2 + abs(C96)**2 + delta_66 - 1,\n",
    "        abs(C67)**2 + abs(C77)**2 + abs(C87)**2 + abs(C97)**2 + delta_77 - 1,abs(C68)**2 + abs(C78)**2 + abs(C88)**2 + abs(C98)**2 + delta_88 - 1,\n",
    "        abs(C69)**2 + abs(C79)**2 + abs(C89)**2 + abs(C99)**2 + delta_99 - 1\n",
    "    ]\n",
    "\n",
    "    assert len(equations) == 35\n",
    "    return equations\n",
    "\n",
    "# Example Usage:\n",
    "initial_guess = [0.2] * 15 + [-.2]*15 + [0.1] * 5   # Initial guess for the variables (Cij real and imaginary parts, y)\n",
    "solution = fsolve(Lagrange_eqs, initial_guess)\n",
    "residuals = Lagrange_eqs(solution)                   # residuals and residues sum\n",
    "residuals_sum = np.sum(np.abs(residuals))\n",
    "\n",
    "print(\"Solution to the system:\", solution)\n",
    "print(\"Residuals:\", residuals)\n",
    "print(\"Residuals sum:\", residuals_sum)"
   ]
  },
  {
   "cell_type": "code",
   "execution_count": null,
   "metadata": {},
   "outputs": [],
   "source": []
  },
  {
   "cell_type": "markdown",
   "metadata": {},
   "source": [
    "Working. Now, conducting numerous trials using random initial points and filtering out the best outcomes. Then, converting those results into class objects for analysis."
   ]
  },
  {
   "cell_type": "code",
   "execution_count": 31,
   "metadata": {},
   "outputs": [],
   "source": [
    "seed_res_list = []\n",
    "for i in range(1500):\n",
    "    np.random.seed(i)\n",
    "    initial_guess = np.random.rand(35)  # random initial guess\n",
    "    solution = fsolve(Lagrange_eqs, initial_guess)\n",
    "    residuals = Lagrange_eqs(solution)\n",
    "    residuals_sum = np.sum(np.abs(residuals))\n",
    "    if residuals_sum < 1e-11:\n",
    "        #add to seed_res_list\n",
    "        seed_res_list.append((residuals_sum, i))\n",
    "    #sort the list by residue sum\n",
    "    seed_res_list.sort()\n",
    "\n",
    "seed_list = [i[1] for i in seed_res_list]   # create seed list for later use in class objects\n",
    "sol_list = [seed_sol(i) for i in seed_list]  # storing class objects, list containing all good solutions as class instances"
   ]
  },
  {
   "cell_type": "code",
   "execution_count": 32,
   "metadata": {},
   "outputs": [],
   "source": []
  }
 ],
 "metadata": {
  "kernelspec": {
   "display_name": "Python 3",
   "language": "python",
   "name": "python3"
  },
  "language_info": {
   "codemirror_mode": {
    "name": "ipython",
    "version": 3
   },
   "file_extension": ".py",
   "mimetype": "text/x-python",
   "name": "python",
   "nbconvert_exporter": "python",
   "pygments_lexer": "ipython3",
   "version": "3.11.4"
  }
 },
 "nbformat": 4,
 "nbformat_minor": 2
}
