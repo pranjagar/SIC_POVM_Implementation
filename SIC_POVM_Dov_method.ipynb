{
 "cells": [
  {
   "cell_type": "code",
   "execution_count": 17,
   "metadata": {},
   "outputs": [],
   "source": [
    "import sympy as sym\n",
    "import math as m\n",
    "import numpy as np\n",
    "import pandas as pd\n",
    "\n",
    "import scipy.optimize\n",
    "from sympy import pprint\n",
    "from scipy.optimize import fsolve\n",
    "from scipy.optimize import least_squares\n",
    "from scipy.optimize import minimize\n",
    "\n",
    "import numpy as np\n",
    "import matplotlib.pyplot as plt\n",
    "from sklearn.cluster import KMeans\n",
    "from sklearn.decomposition import PCA\n",
    "from sklearn.metrics import silhouette_score\n",
    "\n",
    "from sklearn.neighbors import KNeighborsClassifier\n",
    "from sklearn.decomposition import PCA\n",
    "import matplotlib.pyplot as plt\n",
    "\n",
    "import SIC_POVM_functions as sic\n",
    "\n",
    "import warnings\n",
    "warnings.filterwarnings(\"ignore\", category=RuntimeWarning)\n",
    "\n",
    "np.set_printoptions(linewidth=150)\n",
    "def pp(M, rounding=3):\n",
    "    if type(M) is not np.ndarray:\n",
    "        print(M)\n",
    "    else:\n",
    "        M = M.real.round(rounding) + 1j*M.imag.round(rounding)\n",
    "        print(np.round(M, rounding))\n"
   ]
  },
  {
   "cell_type": "code",
   "execution_count": 7,
   "metadata": {},
   "outputs": [
    {
     "name": "stdout",
     "output_type": "stream",
     "text": [
      "[[ 0.+0.j -1.+0.j  1.+0.j]\n",
      " [ 1.+0.j  0.+0.j -1.+0.j]\n",
      " [-1.+0.j  1.+0.j  0.+0.j]]\n"
     ]
    }
   ],
   "source": [
    "w  = np.exp(2*np.pi*1j/3)\n",
    "\n",
    "A_T = np.array([[0, 1, -1], [-1, 0, 1], [1, -1, 0]])\n",
    "A = np.transpose(A_T)\n",
    "\n",
    "pp(A)\n"
   ]
  },
  {
   "cell_type": "code",
   "execution_count": 10,
   "metadata": {},
   "outputs": [],
   "source": [
    "N =3\n",
    "# Basis states |x> are the columns of A\n",
    "basis_states = np.array([[1,0,0], [0,1,0], [0,0,1]])\n",
    "\n",
    "# Construct xx matrix\n",
    "xx = np.array([x.reshape(1,3).T @ x.reshape(1,3) for x in basis_states])\n",
    "x1_x = np.array([basis_states[(i+1)%N].reshape(1,3).T @ basis_states[i].reshape(1,3) for i in range(N)])\n",
    "\n",
    "# Construct x_1,x matrix\n",
    "\n",
    "\n",
    "# verified both xx and x1_x \n",
    "w_matrix = np.array([w**i for i in range(N)])\n",
    "\n",
    "W_array = np.array([ w_matrix[i]*xx[i] for i in range(N)])\n",
    "\n",
    "V, W = np.sum(x1_x, axis=0, keepdims=True), np.sum(W_array, axis=0, keepdims=True)\n",
    "\n"
   ]
  },
  {
   "cell_type": "code",
   "execution_count": 11,
   "metadata": {},
   "outputs": [],
   "source": [
    "# checking it they recreate cA\n",
    "\n",
    "\n",
    "a1 = V - V@V\n",
    "a2 = w*V@W - w**2*V@V@W\n",
    "a3 = w**2 * V @ W @ W - w*V@V@W@W\n",
    "\n",
    "a4 = (V+V@V)\n",
    "a5 = w*V@W + w**2*V@V@W\n",
    "a6 = w**2 * V @ W @ W + w*V@V@W@W\n",
    "\n",
    "a7 = W\n",
    "a8 = W@W\n",
    "a9 = np.eye(3)\n",
    "\n",
    "a1, a2, a3, a4, a5, a6, a7, a8, a9 = a1.reshape(3,3), a2.reshape(3,3), a3.reshape(3,3), a4.reshape(3,3), a5.reshape(3,3), a6.reshape(3,3), a7.reshape(3,3), a8.reshape(3,3), a9.reshape(3,3)\n"
   ]
  },
  {
   "cell_type": "code",
   "execution_count": null,
   "metadata": {},
   "outputs": [],
   "source": [
    "\n"
   ]
  },
  {
   "cell_type": "code",
   "execution_count": 12,
   "metadata": {},
   "outputs": [],
   "source": [
    "A1, A2, A3 = (1/np.sqrt(6))*a1, (1/np.sqrt(6))*a2, (1/np.sqrt(6))*a3\n",
    "A4, A5, A6 = (1/np.sqrt(6))*a4, (1/np.sqrt(6))*a5, (1/np.sqrt(6))*a6\n",
    "A7, A8, A9 = (1/np.sqrt(3))*a7, (1/np.sqrt(3))*a8, (1/np.sqrt(3))*a9"
   ]
  },
  {
   "cell_type": "code",
   "execution_count": 20,
   "metadata": {},
   "outputs": [
    {
     "name": "stdout",
     "output_type": "stream",
     "text": [
      "[[ 0.    +0.j     -0.4082+0.j      0.4082+0.j      0.    +0.j     -0.4082+0.j      0.4082+0.j      0.    +0.j     -0.4082+0.j      0.4082+0.j    ]\n",
      " [ 0.4082+0.j      0.    +0.j     -0.4082+0.j     -0.2041+0.3536j  0.    +0.j      0.2041-0.3536j -0.2041-0.3536j  0.    +0.j      0.2041+0.3536j]\n",
      " [-0.4082+0.j      0.4082+0.j      0.    +0.j      0.2041+0.3536j -0.2041-0.3536j  0.    +0.j      0.2041-0.3536j -0.2041+0.3536j  0.    +0.j    ]\n",
      " [ 0.    +0.j      0.4082+0.j      0.4082+0.j      0.    +0.j      0.4082+0.j      0.4082+0.j      0.    +0.j      0.4082+0.j      0.4082+0.j    ]\n",
      " [ 0.4082+0.j      0.    +0.j      0.4082+0.j     -0.2041+0.3536j  0.    +0.j     -0.2041+0.3536j -0.2041-0.3536j  0.    +0.j     -0.2041-0.3536j]\n",
      " [ 0.4082+0.j      0.4082+0.j      0.    +0.j     -0.2041-0.3536j -0.2041-0.3536j  0.    +0.j     -0.2041+0.3536j -0.2041+0.3536j  0.    +0.j    ]\n",
      " [ 0.5774+0.j      0.    +0.j      0.    +0.j      0.5774+0.j      0.    +0.j      0.    +0.j      0.5774+0.j      0.    +0.j      0.    +0.j    ]\n",
      " [ 0.    +0.j     -0.2887+0.5j     0.    +0.j      0.    +0.j     -0.2887-0.5j     0.    +0.j      0.    +0.j      0.5774+0.j      0.    +0.j    ]\n",
      " [ 0.    +0.j      0.    +0.j     -0.2887-0.5j     0.    +0.j      0.    +0.j     -0.2887+0.5j     0.    +0.j      0.    +0.j      0.5774+0.j    ]]\n"
     ]
    }
   ],
   "source": [
    "# horizontal stack three matrices\n",
    "h1A = np.hstack((A1, A2, A3))\n",
    "h2A = np.hstack((A4, A5, A6))\n",
    "h3A = np.hstack((A7, A8, A9))\n",
    "\n",
    "# vertical stack the three matrices\n",
    "\n",
    "M = np.vstack((h1A, h2A, h3A))\n",
    "\n",
    "pp(M, 4)"
   ]
  },
  {
   "cell_type": "code",
   "execution_count": 23,
   "metadata": {},
   "outputs": [
    {
     "name": "stdout",
     "output_type": "stream",
     "text": [
      "[[ 1.+0.j  0.+0.j  0.+0.j  0.+0.j  0.+0.j  0.+0.j  0.+0.j  0.+0.j  0.+0.j]\n",
      " [ 0.+0.j  1.+0.j  0.+0.j  0.+0.j -0.+0.j  0.+0.j  0.+0.j  0.+0.j  0.+0.j]\n",
      " [ 0.+0.j  0.+0.j  1.+0.j  0.+0.j  0.+0.j  0.+0.j  0.+0.j  0.+0.j -0.+0.j]\n",
      " [-0.+0.j -0.+0.j -0.+0.j  1.+0.j -0.+0.j  0.+0.j  0.+0.j  0.+0.j  0.+0.j]\n",
      " [-0.+0.j  0.+0.j  0.+0.j -0.+0.j  1.+0.j -0.+0.j  0.+0.j  0.+0.j  0.+0.j]\n",
      " [ 0.+0.j  0.+0.j  0.+0.j  0.+0.j -0.+0.j  1.+0.j  0.+0.j -0.+0.j  0.+0.j]\n",
      " [-0.+0.j -0.+0.j -0.+0.j  0.+0.j  0.+0.j  0.+0.j  1.+0.j  0.+0.j -0.+0.j]\n",
      " [-0.+0.j  0.+0.j  0.+0.j  0.+0.j -0.+0.j -0.+0.j -0.+0.j  1.+0.j  0.+0.j]\n",
      " [ 0.+0.j -0.+0.j  0.+0.j  0.+0.j -0.+0.j  0.+0.j -0.+0.j -0.+0.j  1.+0.j]]\n"
     ]
    }
   ],
   "source": [
    "pp(np.conjugate(M.T) @ M )       # multiplying with its conjugate transpose. Gives identity matrix."
   ]
  },
  {
   "cell_type": "code",
   "execution_count": 26,
   "metadata": {},
   "outputs": [
    {
     "ename": "AttributeError",
     "evalue": "'MutableDenseMatrix' object has no attribute 'is_unitary'",
     "output_type": "error",
     "traceback": [
      "\u001b[0;31m---------------------------------------------------------------------------\u001b[0m",
      "\u001b[0;31mAttributeError\u001b[0m                            Traceback (most recent call last)",
      "Cell \u001b[0;32mIn[26], line 3\u001b[0m\n\u001b[1;32m      1\u001b[0m \u001b[38;5;66;03m# check if a matrix is unitary using sympy\u001b[39;00m\n\u001b[1;32m      2\u001b[0m M_sym \u001b[38;5;241m=\u001b[39m sym\u001b[38;5;241m.\u001b[39mMatrix(M)\n\u001b[0;32m----> 3\u001b[0m \u001b[43mM_sym\u001b[49m\u001b[38;5;241;43m.\u001b[39;49m\u001b[43mis_unitary\u001b[49m\n",
      "\u001b[0;31mAttributeError\u001b[0m: 'MutableDenseMatrix' object has no attribute 'is_unitary'"
     ]
    }
   ],
   "source": [
    "# check if a matrix is unitary using sympy\n",
    "M_sym = sym.Matrix(M)\n",
    "M_sym.is_unitary\n"
   ]
  },
  {
   "cell_type": "markdown",
   "metadata": {},
   "source": [
    "#### Trying the Zeilinger decomposition"
   ]
  },
  {
   "cell_type": "code",
   "execution_count": 49,
   "metadata": {},
   "outputs": [
    {
     "name": "stdout",
     "output_type": "stream",
     "text": [
      "T Matrices List (Beam Splitters):\n",
      "[[0, 1, 0, 0, 9], [2, 3, 1.5707963267948966, 0, 9], [1, 2, 1.5707963267948966, 0, 9], [0, 1, 0.7853981633974483, 0.0, 9], [4, 5, 0.7853981633974482, -1.0471975511965972, 9], [3, 4, 0.9553166181245093, -1.0471975511965974, 9], [2, 3, 1.0471975511965979, 6.841059687549134e-16, 9], [1, 2, 1.5707963267948966, 2.101228658090909, 9], [0, 1, 0.9553166181245093, -2.094395102393195, 9], [6, 7, 0.7853981633974483, 5.828670879282075e-16, 9], [5, 6, 1.1071487177940906, -3.141592653589793, 9], [4, 5, 1.318116071652818, -0.0, 9], [3, 4, 1.1333150770761202, -1.7609219301413637, 9], [2, 3, 1.1970041519603862, 1.0403639954988846, 9], [1, 2, 1.318116071652818, -2.6179938779914944, 9], [0, 1, 0.6154797086703875, -2.6179938779914944, 9]]\n",
      "Local V (Phase Shifters):\n",
      "[ 0.5       +8.66025404e-01j -0.38867167+9.21376326e-01j\n",
      " -0.5       +8.66025404e-01j  1.        -4.81906560e-16j\n",
      "  0.75592895+6.54653671e-01j -0.5       +8.66025404e-01j\n",
      "  0.8660254 -5.00000000e-01j -0.5       +8.66025404e-01j\n",
      "  0.5       -8.66025404e-01j]\n"
     ]
    }
   ],
   "source": [
    "import numpy as np\n",
    "import strawberryfields\n",
    "from strawberryfields.decompositions import rectangular\n",
    "\n",
    "# Define a 2x2 identity matrix\n",
    "# identity_matrix = np.eye(2)\n",
    "# hadamard  = np.array([[1, 1], [1, -1]]) / np.sqrt(2)\n",
    "SIC_POVM_extension_dov  = M\n",
    "\n",
    "# Decompose the identity matrix into beam splitters and phase shifters\n",
    "tlist, localV, _ = rectangular(SIC_POVM_extension_dov)\n",
    "\n",
    "# Print the results\n",
    "print(\"T Matrices List (Beam Splitters):\")\n",
    "print(tlist)\n",
    "print(\"Local V (Phase Shifters):\")\n",
    "print(localV)"
   ]
  },
  {
   "cell_type": "code",
   "execution_count": null,
   "metadata": {},
   "outputs": [],
   "source": []
  }
 ],
 "metadata": {
  "kernelspec": {
   "display_name": "Python 3",
   "language": "python",
   "name": "python3"
  },
  "language_info": {
   "codemirror_mode": {
    "name": "ipython",
    "version": 3
   },
   "file_extension": ".py",
   "mimetype": "text/x-python",
   "name": "python",
   "nbconvert_exporter": "python",
   "pygments_lexer": "ipython3",
   "version": "3.11.4"
  }
 },
 "nbformat": 4,
 "nbformat_minor": 2
}
