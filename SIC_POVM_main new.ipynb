{
 "cells": [
  {
   "cell_type": "code",
   "execution_count": 1,
   "metadata": {},
   "outputs": [
    {
     "name": "stdout",
     "output_type": "stream",
     "text": [
      "[(6+0j), (6+0j), (2.4+0j), (2.5999999999999996+1.637849848627056e-17j), (2.287500258169+0j), (2.4+2.2311252215006176e-17j), (2.4-2.576281494458285e-17j), (2.3000000000000003-4.125283626344832e-18j), (2.587500258169+0j)]\n"
     ]
    },
    {
     "name": "stderr",
     "output_type": "stream",
     "text": [
      "/Library/Frameworks/Python.framework/Versions/3.11/lib/python3.11/site-packages/scipy/optimize/_minpack_py.py:239: ComplexWarning: Casting complex values to real discards the imaginary part\n",
      "  retval = _minpack._hybrd(func, x0, args, 1, xtol, maxfev,\n",
      "/Library/Frameworks/Python.framework/Versions/3.11/lib/python3.11/site-packages/scipy/optimize/_minpack_py.py:177: RuntimeWarning: The iteration is not making good progress, as measured by the \n",
      "  improvement from the last five Jacobian evaluations.\n",
      "  warnings.warn(msg, RuntimeWarning)\n"
     ]
    }
   ],
   "source": [
    "import sympy as sym\n",
    "import math as m\n",
    "import numpy as np\n",
    "import pandas as pd\n",
    "\n",
    "import scipy.optimize\n",
    "from sympy import pprint\n",
    "from scipy.optimize import fsolve\n",
    "from scipy.optimize import least_squares\n",
    "from scipy.optimize import minimize\n",
    "\n",
    "import numpy as np\n",
    "import matplotlib.pyplot as plt\n",
    "from sklearn.cluster import KMeans\n",
    "from sklearn.decomposition import PCA\n",
    "from sklearn.metrics import silhouette_score\n",
    "\n",
    "from sklearn.neighbors import KNeighborsClassifier\n",
    "from sklearn.decomposition import PCA\n",
    "import matplotlib.pyplot as plt\n",
    "\n",
    "import SIC_POVM_functions as sic\n",
    "\n",
    "import warnings\n",
    "warnings.filterwarnings(\"ignore\", category=RuntimeWarning)\n"
   ]
  },
  {
   "cell_type": "code",
   "execution_count": 17,
   "metadata": {},
   "outputs": [],
   "source": [
    "#Class definitions\n",
    "class seed_sol:\n",
    "    def __init__(self, seed):\n",
    "        self.seed = seed\n",
    "    @property\n",
    "    def initial_guess(self):\n",
    "        np.random.seed(self.seed)\n",
    "        initial_guess = np.random.rand(35)  # random initial guess\n",
    "        return initial_guess\n",
    "    @property\n",
    "    def solution(self):\n",
    "        solution = fsolve(Lagrange_eqs, self.initial_guess)\n",
    "        return solution\n",
    "    @property\n",
    "    def res_list(self):\n",
    "        res_list = Lagrange_eqs(self.solution)\n",
    "        return res_list\n",
    "    @property\n",
    "    def res(self):\n",
    "        res = np.sum(np.abs(self.res_list))\n",
    "        return res\n",
    "    def full_POVM(self):\n",
    "        #break solution into 4 parts, remove the last 7 elements\n",
    "        sol = self.solution\n",
    "        solution_add = [sol[:7], sol[7:14], sol[14:21], sol[21:28]]     # divide into 4 parts of 7\n",
    "        POVM_normalized_9d = [list(i) for i in POVM_normalized_5d]         # deep copy \n",
    "        for i in range(2):                              # first two vecs are known\n",
    "            POVM_normalized_9d[i].extend([0] *4)\n",
    "        for part in solution_add:                       # adding (already normalized) elements from the solution to make the remaining vectors 9d\n",
    "            for i in range(7):\n",
    "                # POVM_normalized_9d[i+2].append(part[i])\n",
    "                POVM_normalized_9d[i+2].append((1/np.sqrt(6))*(part[i]))        # normalizing coming from the fixing of the lagrangian eqns\n",
    "        return POVM_normalized_9d\n",
    "\n",
    "\n",
    "class POVM_relations:\n",
    "    def __init__(self, POVM_vec_list):\n",
    "        self.POVM_vec_list = np.array(POVM_vec_list)        # making array for easy dot product\n",
    "        self.inner_products = {}\n",
    "    def dot_product(self, i, j):\n",
    "        if i < 0 or j < 0 or i > 8 or j > 8:\n",
    "            raise ValueError('Bad index, must be integer 0 to 8')\n",
    "        return np.vdot(self.POVM_vec_list[i], self.POVM_vec_list[j])\n",
    "    def all(self, clean = True, threshold = 1e-12, absolutes = True):\n",
    "        if len(self.POVM_vec_list) != 9:\n",
    "            raise ValueError('The POVM list must have 9 elements')\n",
    "        for i in range(9):\n",
    "            for j in range(i, 9):\n",
    "                key = f'{i+1}{j+1}'\n",
    "                value = self.dot_product(i, j)\n",
    "                self.inner_products[key] = value\n",
    "        #cleaning the dictionary\n",
    "        rel = self.inner_products\n",
    "        for key in rel:\n",
    "            if absolutes == True:\n",
    "                rel[key] = abs(rel[key])\n",
    "            if abs(rel[key]) < threshold:\n",
    "                rel[key] = 0\n",
    "        return rel\n"
   ]
  },
  {
   "cell_type": "markdown",
   "metadata": {},
   "source": [
    "### Fixing the normalization problem from Lagrange Equations, and associated stuff"
   ]
  },
  {
   "cell_type": "code",
   "execution_count": 53,
   "metadata": {},
   "outputs": [
    {
     "name": "stdout",
     "output_type": "stream",
     "text": [
      "delta_five_fixed =  [(0.40000000000000013+0j), (0.4333333333333334-1.5431352694421904e-18j), (0.43333333333333335+1.0728477129103336e-18j), (0.43333333333333346-4.471148278649265e-19j), (0.4333333333333333+2.6275172237666522e-18j), (0.4333333333333335+2.267799535210488e-19j), (0.43333333333333335+6.251554030278836e-19j)]\n"
     ]
    }
   ],
   "source": [
    "# creating five lists POVMs\n",
    "w = m.e**((2/3)*m.pi*(1j))     # third root of unity\n",
    "POVM_unnormalized = [[0,1,-1],[-1,0,1],[1,-1,0],[0,w,-w**2],[-1,0,w**2],[1,-w,0],[0,w**2,-w],[-1,0,w],[1,-w**2,0]]             # unnormalized POVM direction vectors\n",
    "# POVM_vec = (1/(2**.5))*(np.array([[0,1,-1],[-1,0,1],[1,-1,0],[0,w,-w**2],[-1,0,w**2],[1,-w,0],[0,w**2,-w],[-1,0,w],[1,-w**2,0]]))  # normalized POVM direction vectors\n",
    "POVM_vec = (1/np.sqrt(2))*(np.array([[0,1,-1],[-1,0,1],[1,-1,0],[0,w,-w**2],[-1,0,w**2],[1,-w,0],[0,w**2,-w],[-1,0,w],[1,-w**2,0]]))  # normalized POVM direction vectors\n",
    "\n",
    "# c4j_list = [2,.5,.5,.5, (-.25-.433013j), -.25, .5, -.25, (-.25-.433013j)]           # fourth elements, not normalized yet. See sic.py for calcs\n",
    "c4j_list = [2,.5,.5,.5, (-.25-.25j*np.sqrt(3)), (-.25+.25j*np.sqrt(3)), .5, (-.25+.25j*np.sqrt(3)), (-.25-.25j*np.sqrt(3))]           # fourth elements, not normalized yet. See sic.py for calcs\n",
    "# c5j_list = [0, np.sqrt(15)/2 , 0.38729833462074165, (-0.38729833462074176-0.44721359549995776j), -0.19364916731037082, 0.5809475019311124, -0.38729833462074165, (-0.19364916731037093-0.4472135954999579j), 0.5809475019311124]\n",
    "c5j_list = [0, np.sqrt(15)/2 , (1/np.sqrt(15))*(3/2), (1/np.sqrt(15))*(2*w**2-.5) ,-(1/np.sqrt(15))*(2+(5/2)*w**2), (1/np.sqrt(15))*(2-w/2), (1/np.sqrt(15))*(2*w-.5), -(1/np.sqrt(15))*(2+(5/2)*w), (1/np.sqrt(15))*(2-.5*w**2)]\n",
    "\n",
    "POVM_unnormalized_5d = []\n",
    "for i in range(len(POVM_unnormalized)):\n",
    "\t# Directly append c4j_list[i] and c5j_list[i] to the copies of lists in POVM_unnormalized\n",
    "\tvec_5d_i = POVM_unnormalized[i] + [c4j_list[i], c5j_list[i]]\n",
    "\tPOVM_unnormalized_5d.append(vec_5d_i)\n",
    "\n",
    "POVM_unnormalized_5d[0]    ## unnormalized 5-lists POVM vectors\n",
    "\n",
    "POVM_normalized_5d = ((1/(6**.5))*(np.array(POVM_unnormalized_5d))).tolist()       # normalized 5-lists POVM vectors\n",
    "\n",
    "#print and compare\n",
    "# print(POVM_unnormalized_5d[0])\t## UNnormalized 5-lists POVM vectors\n",
    "# print(POVM_normalized_5d[0])\t## normalized 5-lists POVM vectors\n",
    "\n",
    "# delta_five  = [0.400000000000000, 0.433333333333333, 0.381250043028167, 0.400000000000000, 0.400000000000000, 0.383333333333333, 0.431250043028167]\n",
    "# delta_five_new = [(0.40000000000000013+0j), (0.4333333333333334-1.5431352694421904e-18j), (0.3812500430281667+0j), (0.40000000000000013-3.0923901048776238e-18j), (0.4+1.898287466587076e-18j), (0.38333333333333347-7.881938927040631e-19j), (0.4312500430281667+3.469446951953614e-18j)]\n",
    "# print('delta_five_new = ', [np.vdot(POVM_normalized_5d[i], POVM_normalized_5d[i]) for i in range(9)])\n",
    "delta_five_fixed = [ np.vdot(POVM_normalized_5d[i], POVM_normalized_5d[i]) for i in range(2,9)]\n",
    "print('delta_five_fixed = ', delta_five_fixed)\n"
   ]
  },
  {
   "cell_type": "markdown",
   "metadata": {},
   "source": [
    "#### The 1/6 in ortho eq after only the lambda term but not in others is one way of doing it, and prolly not the correct one. Trying this approach for now , later will try the one where 1/6 is multiplied to the coefficients too."
   ]
  },
  {
   "cell_type": "code",
   "execution_count": 55,
   "metadata": {},
   "outputs": [
    {
     "name": "stdout",
     "output_type": "stream",
     "text": [
      "Initial guess: [0.13645285, 0.84315108, 0.12490685, 0.10271676, 0.27940578, 0.98665734, 0.52459312, 0.41561316, 0.70258652, 0.06884098, 0.77664312, 0.84248407, 0.67034251, 0.45412921, 0.69501392, 0.69186904, 0.52676626, 0.45965484, 0.31382016, 0.70279726, 0.29404767, 0.95437514, 0.84051819, 0.87257289, 0.2450531, 0.71094717, 0.34003065, 0.7689673, 0.49019627, 0.6539388, 0.00374957, 0.24125156, 0.29499423, 0.17469819, 0.0711829]\n",
      "Solution to the system: [-1.50824653e+00  1.46575216e+00  1.46575216e+00 -1.46575216e+00\n",
      " -1.46575216e+00  1.46575216e+00  1.46575216e+00  3.05920972e-01\n",
      " -2.97301745e-01 -2.97301745e-01  2.97301745e-01  2.97301744e-01\n",
      " -2.97301744e-01 -2.97301744e-01  9.70985599e-01 -9.43628386e-01\n",
      " -9.43628387e-01  9.43628387e-01  9.43628387e-01 -9.43628387e-01\n",
      " -9.43628386e-01  5.37393468e-01 -5.22252577e-01 -5.22252578e-01\n",
      "  5.22252578e-01  5.22252578e-01 -5.22252578e-01 -5.22252578e-01\n",
      " -2.65178181e-25  6.17394907e+00  1.73949065e-01  5.82605093e+00\n",
      " -1.73949065e-01  6.17394907e+00  1.73949065e-01]\n",
      "Residuals: [1.1109835290053599e-26, -1.0680345496894006e-12, -3.828209739949647e-12, -2.3130016420698967e-12, -1.387172784047171e-12, -3.391731340229853e-13, 1.477000235080202e-12, -2.2534324156634237e-27, -2.4629557652626013e-12, 2.910510663497086e-12, 3.0696648926446337e-12, 4.117222477303025e-12, -6.796322763828281e-13, 7.249935605561456e-13, -7.15233874894529e-27, -3.819333738164232e-12, -1.743931388187292e-12, -1.681136711321566e-12, -2.2402201621529727e-12, 3.4244829194562953e-13, 2.9672763089220546e-12, -3.958472843314301e-27, -2.6162405575291814e-13, -5.389415187277239e-12, -4.698186284457506e-12, -1.7163935203678982e-12, 8.139785142210105e-13, -2.946678202368306e-12, (-1.8266632650920656e-10+0j), (-1.9992052457951104e-10-1.5431352694421904e-18j), (1.0324763266567061e-10+1.0728477129103336e-18j), (7.854739081381013e-11-4.471148278649265e-19j), (1.1605472138853656e-10+2.6275172237666522e-18j), (1.218956047210895e-10+2.267799535210488e-19j), (5.595539587233134e-10+6.251554030278836e-19j)]\n",
      "Residuals sum: 1.4148843534867819e-09\n"
     ]
    }
   ],
   "source": [
    "# the main objective function containing the Lagrange equations\n",
    "def Lagrange_eqs(vars):\n",
    "    # Unpacking variables, C63 to C99 and y3 to y9\n",
    "    C63, C64, C65, C66, C67, C68, C69,  C73, C74, C75, C76, C77, C78, C79,  C83, C84, C85, C86, C87, C88, C89,  C93, C94, C95, C96, C97, C98, C99,  y3, y4, y5, y6, y7, y8, y9 = vars\n",
    "    # global delta_five\n",
    "    # delta_33, delta_44, delta_55, delta_66, delta_77, delta_88, delta_99 = delta_five\n",
    "    global delta_five_new\n",
    "    delta_33, delta_44, delta_55, delta_66, delta_77, delta_88, delta_99 = delta_five_fixed\n",
    "\n",
    "    # Full set of 28 equations for Cij terms, based on previous interactions\n",
    "    equations = [\n",
    "        # Derivatives with respect to C63 to C69\n",
    "        (1/6)*(np.conj(C63)*y3*(1/6)),\n",
    "        (1/6)*(np.conj(C63) + np.conj(C64)*y4*(1/6)),\n",
    "        (1/6)*(np.conj(C63) + np.conj(C64) + np.conj(C65)*y5*(1/6)),\n",
    "        (1/6)*(np.conj(C63) + np.conj(C64) + np.conj(C65) + np.conj(C66)*y6*(1/6)),\n",
    "        (1/6)*(np.conj(C63) + np.conj(C64) + np.conj(C65) + np.conj(C66) + np.conj(C67)*y7*(1/6)),\n",
    "        (1/6)*(np.conj(C63) + np.conj(C64) + np.conj(C65) + np.conj(C66) + np.conj(C67) + np.conj(C68)*y8*(1/6)),\n",
    "        (1/6)*(np.conj(C63) + np.conj(C64) + np.conj(C65) + np.conj(C66) + np.conj(C67) + np.conj(C68) + np.conj(C69)*y9*(1/6)),\n",
    "        # Continue with C73 to C79\n",
    "        # Derivatives with respect to C73 to C79\n",
    "        (1/6)*(np.conj(C73)*y3*(1/6)), \n",
    "        (1/6)*(np.conj(C73) + np.conj(C74)*y4*(1/6)), \n",
    "        (1/6)*(np.conj(C73) + np.conj(C74) + np.conj(C75)*y5*(1/6)), \n",
    "        (1/6)*(np.conj(C73) + np.conj(C74) + np.conj(C75) + np.conj(C76)*y6*(1/6)),\n",
    "        (1/6)*(np.conj(C73) + np.conj(C74) + np.conj(C75) + np.conj(C76) + np.conj(C77)*y7*(1/6)),\n",
    "        (1/6)*(np.conj(C73) + np.conj(C74) + np.conj(C75) + np.conj(C76) + np.conj(C77) + np.conj(C78)*y8*(1/6)),\n",
    "        (1/6)*(np.conj(C73) + np.conj(C74) + np.conj(C75) + np.conj(C76) + np.conj(C77) + np.conj(C78) + np.conj(C79)*y9*(1/6)),\n",
    "        # Derivatives with respect to C83 to C89\n",
    "        (1/6)*(np.conj(C83)*y3*(1/6)), \n",
    "        (1/6)*(np.conj(C83) + np.conj(C84)*y4*(1/6)), \n",
    "        (1/6)*(np.conj(C83) + np.conj(C84) + np.conj(C85)*y5*(1/6)), \n",
    "        (1/6)*(np.conj(C83) + np.conj(C84) + np.conj(C85) + np.conj(C86)*y6*(1/6)),\n",
    "        (1/6)*(np.conj(C83) + np.conj(C84) + np.conj(C85) + np.conj(C86) + np.conj(C87)*y7*(1/6)),\n",
    "        (1/6)*(np.conj(C83) + np.conj(C84) + np.conj(C85) + np.conj(C86) + np.conj(C87) + np.conj(C88)*y8*(1/6)),\n",
    "        (1/6)*(np.conj(C83) + np.conj(C84) + np.conj(C85) + np.conj(C86) + np.conj(C87) + np.conj(C88) + np.conj(C89)*y9*(1/6)),\n",
    "        # Derivatives with respect to C93 to C99\n",
    "        (1/6)*(np.conj(C93)*y3*(1/6)),\n",
    "        (1/6)*(np.conj(C93) + np.conj(C94)*y4*(1/6)), \n",
    "        (1/6)*(np.conj(C93) + np.conj(C94) + np.conj(C95)*y5*(1/6)),\n",
    "        (1/6)*(np.conj(C93) + np.conj(C94) + np.conj(C95) + np.conj(C96)*y6*(1/6)),\n",
    "        (1/6)*(np.conj(C93) + np.conj(C94) + np.conj(C95) + np.conj(C96) + np.conj(C97)*y7*(1/6)),\n",
    "        (1/6)*(np.conj(C93) + np.conj(C94) + np.conj(C95) + np.conj(C96) + np.conj(C97) + np.conj(C98)*y8*(1/6)),\n",
    "        (1/6)*(np.conj(C93) + np.conj(C94) + np.conj(C95) + np.conj(C96) + np.conj(C97) + np.conj(C98) + np.conj(C99)*y9*(1/6)),\n",
    "        #Now the normalization equations\n",
    "        (1/6)*(abs(C63)**2 + abs(C73)**2 + abs(C83)**2 + abs(C93)**2) + delta_33 - 1,  \n",
    "        (1/6)*(abs(C64)**2 + abs(C74)**2 + abs(C84)**2 + abs(C94)**2) + delta_44 - 1,\n",
    "        (1/6)*(abs(C65)**2 + abs(C75)**2 + abs(C85)**2 + abs(C95)**2) + delta_55 - 1,  \n",
    "        (1/6)*(abs(C66)**2 + abs(C76)**2 + abs(C86)**2 + abs(C96)**2) + delta_66 - 1,\n",
    "        (1/6)*(abs(C67)**2 + abs(C77)**2 + abs(C87)**2 + abs(C97)**2) + delta_77 - 1,  \n",
    "        (1/6)*(abs(C68)**2 + abs(C78)**2 + abs(C88)**2 + abs(C98)**2) + delta_88 - 1,\n",
    "        (1/6)*(abs(C69)**2 + abs(C79)**2 + abs(C89)**2 + abs(C99)**2) + delta_99 - 1\n",
    "    ]\n",
    "    assert len(equations) == 35\n",
    "    return equations\n",
    "\n",
    "# Example Usage:\n",
    "\n",
    "\n",
    "\n",
    "# ig below for np.seed = 2918 \n",
    "# initial_guess =[0.98030858, 0.35567294, 0.99141023, 0.47111957, 0.34998446, 0.43261049, 0.30442865, 0.21036997, 0.39912775, 0.24321787, 0.91072068, 0.59991195, 0.39894914, 0.9238744 , 0.27633149, 0.9263308 , 0.02004467, 0.09815871, 0.03103966, 0.9009708 , 0.60346855, 0.30131413, 0.22667874, 0.99340599, 0.71874642, 0.71156703, 0.8234102 , 0.80459364, 0.77652217, 0.75734249, 0.06087287, 0.93906535, 0.92258927, 0.22224891, 0.0029041 ] \n",
    "initial_guess =[0.13645285, 0.84315108 ,0.12490685 ,0.10271676 ,0.27940578 ,0.98665734, 0.52459312, 0.41561316, 0.70258652, 0.06884098, 0.77664312, 0.84248407, 0.67034251, 0.45412921, 0.69501392, 0.69186904, 0.52676626, 0.45965484, 0.31382016, 0.70279726, 0.29404767, 0.95437514, 0.84051819, 0.87257289, 0.2450531,  0.71094717, 0.34003065, 0.7689673,  0.49019627, 0.6539388, 0.00374957, 0.24125156, 0.29499423, 0.17469819, 0.0711829 ]\n",
    "print(\"Initial guess:\", initial_guess)\n",
    "# initial_guess = [0.2] * 15 + [-.2]*15 + [0.1] * 5   # Initial guess for the variables (Cij real and imaginary parts, y)\n",
    "solution = fsolve(Lagrange_eqs, initial_guess)\n",
    "residuals = Lagrange_eqs(solution)                   # residuals and residues sum\n",
    "residuals_sum = np.sum(np.abs(residuals))\n",
    "\n",
    "print(\"Solution to the system:\", solution)\n",
    "print(\"Residuals:\", residuals)\n",
    "print(\"Residuals sum:\", residuals_sum)"
   ]
  },
  {
   "cell_type": "code",
   "execution_count": 35,
   "metadata": {},
   "outputs": [
    {
     "name": "stdout",
     "output_type": "stream",
     "text": [
      "\n",
      " initial_guess [0.98419185 0.33341227 0.67370162 0.19639042 0.35444646 0.81336595\n",
      " 0.24784955 0.45861133 0.87730142 0.39165846 0.32613342 0.09009511\n",
      " 0.83421775 0.0962116  0.64754508 0.54950399 0.84974054 0.26531732\n",
      " 0.44086832 0.88088538 0.7363577  0.71264004 0.03567197 0.01973123\n",
      " 0.32779687 0.56301663 0.74571705 0.72956789 0.99019112 0.96348374\n",
      " 0.55019533 0.98826167 0.50925462 0.34977244 0.93131972]\n",
      "[56, 6.676816965479679e-16]\n",
      "\n",
      " initial_guess [0.37909853 0.56709817 0.59559251 0.4498589  0.45701983 0.311651\n",
      " 0.31333736 0.29485946 0.53077246 0.39622202 0.71875037 0.548092\n",
      " 0.58207508 0.16765094 0.0292772  0.20874192 0.02257544 0.63467444\n",
      " 0.22444174 0.39830987 0.6195008  0.0019485  0.03566997 0.37678955\n",
      " 0.21644443 0.40484548 0.86599413 0.25572342 0.60143488 0.22690134\n",
      " 0.20608795 0.17591994 0.88859933 0.6715823  0.37582037]\n",
      "[64, 2.0620919034827186e-11]\n",
      "\n",
      " initial_guess [0.50066813 0.46806743 0.50078253 0.14917817 0.82027794 0.32136403\n",
      " 0.779174   0.81508031 0.01480228 0.22757973 0.71173158 0.8211129\n",
      " 0.79332548 0.49521599 0.5605747  0.51493077 0.28701333 0.1880898\n",
      " 0.34100564 0.26630933 0.20280882 0.40766757 0.52124456 0.00845287\n",
      " 0.96314435 0.86047428 0.79002482 0.75214377 0.93918236 0.98422348\n",
      " 0.08506934 0.53264631 0.75585188 0.31033795 0.69176859]\n",
      "[79, 2.868945919270678e-11]\n"
     ]
    }
   ],
   "source": [
    "# for i in range(2800,15000):\n",
    "for i in [2916,2917,2918, 4531, 4532, 4533, 6032,6033]+ list(range(1, 100)):\n",
    "    np.random.seed(i)\n",
    "    initial_guess = np.random.rand(35)\n",
    "    solution = fsolve(Lagrange_eqs, initial_guess)\n",
    "    residuals = Lagrange_eqs(solution)                   # residuals and residues sum\n",
    "    residuals_sum = np.sum(np.abs(residuals))\n",
    "\n",
    "    if residuals_sum < 1e-10:\n",
    "        print('\\n initial_guess', initial_guess)\n",
    "        print([i, residuals_sum])\n",
    "\n",
    "# seed, residue list : [ 2917 4.4191223956293164e-15, 4532 3.3338043426488248e-15, 6033 3.80427932828798e-15, 10998 8.153597002241854e-15, 20990 2.714819746608352e-15, 21860 2.1374692956369812e-15, 25100 3.162636673059558e-15, 28248 6.19787813973094e-16, 28266 8.409742016498353e-15, 30652 3.4325857696401004e-15, 31453 3.041353366217166e-15, 36217 4.054879095452312e-15, 39712 2.1880663663136194e-15, 41193 2.1716813141446073e-15, 45466 8.01171612670997e-15, 46040 5.350693819051618e-15, 46405 1.865265046385399e-15, 52413 2.8128705500231682e-15, 54913 1.9676091484039117e-15, 61595 3.719168940585631e-15, 63488 6.014522363428454e-15, 67336 9.37684050828917e-15, 69405 4.623273839859018e-15, 71313 5.022421141044729e-15, 74069 3.880521317682069e-15, 78313 6.297869491548989e-15, 79895 4.433603719341034e-15, 80937 3.796025080033059e-15, 85854 1.7922593243293907e-15, 86182 9.762464590871239e-15, 86464 4.409168423280531e-15, 87695 3.2460778401093433e-15, 90416 1.482061014995949e-15, 94018 2.833079870204873e-15, 95040 5.246553815378887e-15, 98803 2.314611899961673e-15, 99797 2.929424035866002e-15]\n",
    "#second method: 56, 6.676816965479679e-16"
   ]
  },
  {
   "cell_type": "code",
   "execution_count": 8,
   "metadata": {},
   "outputs": [
    {
     "data": {
      "text/plain": [
       "45.24911418718234"
      ]
     },
     "execution_count": 8,
     "metadata": {},
     "output_type": "execute_result"
    }
   ],
   "source": [
    "ig2917 = [0.98030858 ,0.35567294, 0.99141023, 0.47111957, 0.34998446 ,0.43261049 , 0.30442865 , 0.21036997 ,0.39912775 ,0.24321787 ,0.91072068, 0.59991195 , 0.39894914 , 0.9238744  ,0.27633149 ,0.9263308 , 0.02004467, 0.09815871 , 0.03103966 , 0.9009708  ,0.60346855 ,0.30131413 ,0.22667874, 0.99340599 , 0.71874642 , 0.71156703 ,0.8234102  ,0.80459364 ,0.77652217, 0.75734249 , 0.06087287 , 0.93906535 ,0.92258927 ,0.22224891 ,0.0029041, ]\n",
    "sum(np.abs(Lagrange_eqs(ig2917)))"
   ]
  },
  {
   "cell_type": "code",
   "execution_count": null,
   "metadata": {},
   "outputs": [],
   "source": [
    "# Example Usage:\n",
    "for i in range(10):\n",
    "    np.random.seed(i)\n",
    "    initial_guess = np.concatenate(([0], np.random.rand(6), [0], np.random.rand(6), [0], np.random.rand(6), [0], np.random.rand(6), np.random.rand(7)))\n",
    "\n",
    "    solution = fsolve(Lagrange_eqs, initial_guess)\n",
    "    residuals = Lagrange_eqs(solution)                   # residuals and residues sum\n",
    "    residuals_sum = np.sum(np.abs(residuals))\n",
    "\n",
    "    if residuals_sum < 1e-13:\n",
    "        print(\"Seed:\", i)\n",
    "        print(\"Residuals sum:\", residuals_sum)\n",
    "        print(\"Solution to the system:\", solution)\n",
    "\n",
    "# print(\"Solution to the system:\", solution)\n",
    "# print(\"Residuals:\", residuals)\n",
    "# print(\"Residuals sum:\", residuals_sum)"
   ]
  },
  {
   "cell_type": "markdown",
   "metadata": {},
   "source": [
    "Working. Now, conducting numerous trials using random initial points and filtering out the best outcomes. Then, converting those results into class objects for analysis."
   ]
  },
  {
   "cell_type": "code",
   "execution_count": null,
   "metadata": {},
   "outputs": [],
   "source": [
    "seed_res_list = []\n",
    "for i in range(1500):\n",
    "    np.random.seed(i)\n",
    "    initial_guess = np.random.rand(35)  # random initial guess\n",
    "    solution = fsolve(Lagrange_eqs, initial_guess)\n",
    "    residuals = Lagrange_eqs(solution)\n",
    "    residuals_sum = np.sum(np.abs(residuals))\n",
    "    if residuals_sum < 1e-11:\n",
    "        seed_res_list.append((residuals_sum, i))\n",
    "    seed_res_list.sort()            # sorted in order of increasing residue sum\n",
    "\n",
    "seed_list = [i[1] for i in seed_res_list]   # create seed list for later use in class objects\n",
    "sol_list = [seed_sol(i) for i in seed_list]  # storing class objects, list containing all good solutions as class instances"
   ]
  },
  {
   "cell_type": "code",
   "execution_count": null,
   "metadata": {},
   "outputs": [],
   "source": []
  },
  {
   "cell_type": "code",
   "execution_count": null,
   "metadata": {},
   "outputs": [],
   "source": []
  },
  {
   "cell_type": "code",
   "execution_count": 56,
   "metadata": {},
   "outputs": [
    {
     "name": "stdout",
     "output_type": "stream",
     "text": [
      "[ 2.99985484e-01 -2.91533487e-01 -3.04636688e-01  2.99985484e-01\n",
      "  2.99985484e-01 -3.04123410e-01 -2.92068892e-01  3.26178983e-01\n",
      " -3.16988993e-01 -3.31236312e-01  3.26178983e-01  3.26178983e-01\n",
      " -3.30678216e-01 -3.17571147e-01  4.78386813e-01 -4.64908415e-01\n",
      " -4.85804088e-01  4.78386813e-01  4.78386813e-01 -4.84985563e-01\n",
      " -4.65762225e-01  4.18045498e-01 -4.06267198e-01 -4.24527195e-01\n",
      "  4.18045498e-01  4.18045498e-01 -4.23811915e-01 -4.07013312e-01\n",
      "  3.29325384e-28  1.02899151e+00  2.77445120e-02  9.87330081e-01\n",
      " -1.26699189e-02  9.98891455e-01 -1.15429795e-03] 1.5776144103944575e-15\n"
     ]
    }
   ],
   "source": [
    "print(seed_sol(1254).solution, seed_sol(1254).res )  # checking the solution and residue for seed 1254, it is good"
   ]
  },
  {
   "cell_type": "code",
   "execution_count": 57,
   "metadata": {},
   "outputs": [],
   "source": [
    "povm_1254 = seed_sol(1254).full_POVM()  # checking the full POVM for seed 1254. it is a list of 9 9D vectors, normalized (hopefully)\n",
    "\n",
    "#checking the inner products\n",
    "relations_1254 = POVM_relations(povm_1254)    # class object for checking the inner products. has all method, and dot_product method."
   ]
  },
  {
   "cell_type": "code",
   "execution_count": 58,
   "metadata": {},
   "outputs": [
    {
     "name": "stdout",
     "output_type": "stream",
     "text": [
      "[0j, (-0.20412414523193148+0.35355339059327384j), (0.20412414523193162+0.3535533905932737j), (0.20412414523193154+0j), (-0.15811388300841903-0.18257418583505533j), -0.29153348735392065, -0.3169889931662129, -0.4649084152002779, -0.406267197919503] \n",
      " [(-0.4082482904638631+0j), 0j, (-0.20412414523193162-0.3535533905932737j), (-0.10206207261596577-0.17677681699862874j), (-0.07905694150420949+0j), -0.3046366881250902, -0.3312363115700344, -0.4858040878033379, -0.4245271951136413]\n",
      "0.5132065491623172\n"
     ]
    }
   ],
   "source": [
    "print(povm_1254[3],'\\n' ,povm_1254[4]  )\n",
    "\n",
    "# inner product\n",
    "print(abs(relations_1254.dot_product(2,3)))  "
   ]
  },
  {
   "cell_type": "code",
   "execution_count": 59,
   "metadata": {},
   "outputs": [
    {
     "data": {
      "text/plain": [
       "{'11': 1.0000000000000002,\n",
       " '12': 0,\n",
       " '13': 0,\n",
       " '14': 0,\n",
       " '15': 9.936926026465898e-08,\n",
       " '16': 0.1443375672974065,\n",
       " '17': 0,\n",
       " '18': 0.1443375672974065,\n",
       " '19': 9.936926027198933e-08,\n",
       " '22': 1.0000000000000004,\n",
       " '23': 0,\n",
       " '24': 0,\n",
       " '25': 0.1804219839640731,\n",
       " '26': 0,\n",
       " '27': 0.1443375672974065,\n",
       " '28': 0,\n",
       " '29': 0.036084416666666674,\n",
       " '33': 0.9999999999999999,\n",
       " '34': 0.5132065491623172,\n",
       " '35': 0.8101069083609337,\n",
       " '36': 0.7147260547463855,\n",
       " '37': 0.7147260547463855,\n",
       " '38': 0.8087915890668386,\n",
       " '39': 0.5166902906428554,\n",
       " '44': 1.0,\n",
       " '45': 0.42018386597536866,\n",
       " '46': 0.8092544935111813,\n",
       " '47': 0.6837048860657932,\n",
       " '48': 0.7172648364379266,\n",
       " '49': 0.6083618168821768,\n",
       " '55': 1.0,\n",
       " '56': 0.7845103544067316,\n",
       " '57': 0.5639429382537904,\n",
       " '58': 0.7327973694583723,\n",
       " '59': 0.44947345069517197,\n",
       " '66': 1.0,\n",
       " '67': 0.6414501799308603,\n",
       " '68': 0.7844722356848823,\n",
       " '69': 0.46353786324629254,\n",
       " '77': 0.9999999999999999,\n",
       " '78': 0.7838080261733551,\n",
       " '79': 0.8099702351879048,\n",
       " '88': 1.0,\n",
       " '89': 0.4217093782870262,\n",
       " '99': 1.0000000000000002}"
      ]
     },
     "execution_count": 59,
     "metadata": {},
     "output_type": "execute_result"
    }
   ],
   "source": [
    "rel = relations_1254.all()  # dictionary of all inner products, cleaned up by default\n",
    "rel"
   ]
  },
  {
   "cell_type": "code",
   "execution_count": 19,
   "metadata": {},
   "outputs": [
    {
     "data": {
      "text/plain": [
       "(array([ 1.53755984e+00, -1.49423958e+00, -1.56139935e+00, -1.53755984e+00,\n",
       "        -1.53755984e+00,  1.55876857e+00,  1.49698377e+00, -3.22402747e-01,\n",
       "         3.13319152e-01,  3.27401526e-01,  3.22402747e-01,  3.22402747e-01,\n",
       "        -3.26849892e-01, -3.13894566e-01, -1.03425998e+00,  1.00512003e+00,\n",
       "         1.05029594e+00,  1.03425998e+00,  1.03425998e+00, -1.04852631e+00,\n",
       "        -1.00696595e+00,  2.49544549e-01, -2.42513710e-01, -2.53413678e-01,\n",
       "        -2.49544549e-01, -2.49544549e-01,  2.52986705e-01,  2.42959089e-01,\n",
       "        -1.49681208e-29,  6.17394907e+00,  1.66467072e-01, -5.92398049e+00,\n",
       "        -1.19239805e+01,  1.76801054e+01,  1.21621768e+01]),\n",
       " 4.4191223956293164e-15)"
      ]
     },
     "execution_count": 19,
     "metadata": {},
     "output_type": "execute_result"
    }
   ],
   "source": [
    "sol2917 = seed_sol(2917)\n",
    "sol2917.initial_guess\n",
    "sol2917.solution, sol2917.res"
   ]
  },
  {
   "cell_type": "code",
   "execution_count": 20,
   "metadata": {},
   "outputs": [
    {
     "name": "stdout",
     "output_type": "stream",
     "text": [
      "\n",
      " 0.4082482904638631\n"
     ]
    }
   ],
   "source": [
    "print('\\n', (1/np.sqrt(6)))"
   ]
  },
  {
   "cell_type": "code",
   "execution_count": 30,
   "metadata": {},
   "outputs": [],
   "source": [
    "povm2917 = sol2917.full_POVM()"
   ]
  },
  {
   "cell_type": "code",
   "execution_count": 31,
   "metadata": {},
   "outputs": [
    {
     "data": {
      "text/plain": [
       "{'11': 1.0000000000000002,\n",
       " '12': 0,\n",
       " '13': 0,\n",
       " '14': 0,\n",
       " '15': 9.936926026465898e-08,\n",
       " '16': 0.1443375672974065,\n",
       " '17': 0,\n",
       " '18': 0.1443375672974065,\n",
       " '19': 9.936926027198933e-08,\n",
       " '22': 1.0000000000000004,\n",
       " '23': 0,\n",
       " '24': 0,\n",
       " '25': 0.1804219839640731,\n",
       " '26': 0,\n",
       " '27': 0.1443375672974065,\n",
       " '28': 0,\n",
       " '29': 0.036084416666666674,\n",
       " '33': 1.0000000000000002,\n",
       " '34': 0.5132065491623176,\n",
       " '35': 0.8101069083609339,\n",
       " '36': 0.5204164998665334,\n",
       " '37': 0.5204164998665334,\n",
       " '38': 0.40929553151898035,\n",
       " '39': 0.7075558469242312,\n",
       " '44': 1.0000000000000002,\n",
       " '45': 0.42018386597536905,\n",
       " '46': 0.36070370767703736,\n",
       " '47': 0.48395691485547304,\n",
       " '48': 0.5082410178128601,\n",
       " '49': 0.5597618820714251,\n",
       " '55': 1.0000000000000004,\n",
       " '56': 0.4346774606048852,\n",
       " '57': 0.7076881342476687,\n",
       " '58': 0.5384319931654574,\n",
       " '59': 0.7369733646388389,\n",
       " '66': 1.0000000000000004,\n",
       " '67': 0.6414501799308607,\n",
       " '68': 0.7844722356848826,\n",
       " '69': 0.46353786324629265,\n",
       " '77': 1.0000000000000002,\n",
       " '78': 0.7838080261733553,\n",
       " '79': 0.809970235187905,\n",
       " '88': 1.0000000000000004,\n",
       " '89': 0.42170937828702637,\n",
       " '99': 1.0000000000000002}"
      ]
     },
     "execution_count": 31,
     "metadata": {},
     "output_type": "execute_result"
    }
   ],
   "source": [
    "rel = POVM_relations(povm2917).all()\n",
    "rel"
   ]
  },
  {
   "cell_type": "code",
   "execution_count": 6,
   "metadata": {},
   "outputs": [
    {
     "data": {
      "text/plain": [
       "array([-1.02198257e-01,  9.93188529e-02,  1.03782817e-01,  1.02198257e-01,\n",
       "       -1.02198257e-01, -1.03607954e-01,  9.95012531e-02, -8.08712387e-01,\n",
       "        7.85927171e-01,  8.21251283e-01,  8.08712387e-01, -8.08712387e-01,\n",
       "       -8.19867567e-01,  7.87370535e-01, -6.98241981e-01,  6.78569234e-01,\n",
       "        7.09068059e-01,  6.98241981e-01, -6.98241981e-01, -7.07873360e-01,\n",
       "        6.79815434e-01,  1.56460792e+00, -1.52052558e+00, -1.58886679e+00,\n",
       "       -1.56460792e+00,  1.56460792e+00,  1.58618973e+00, -1.52331804e+00,\n",
       "       -5.16028852e-28,  6.17394907e+00,  1.66467072e-01, -5.92398049e+00,\n",
       "        1.19239805e+01,  5.84337836e+00,  1.63085866e-01])"
      ]
     },
     "execution_count": 6,
     "metadata": {},
     "output_type": "execute_result"
    }
   ],
   "source": [
    "sol_56 = seed_sol(56)\n",
    "sol_56.solution"
   ]
  },
  {
   "cell_type": "code",
   "execution_count": 15,
   "metadata": {},
   "outputs": [
    {
     "name": "stdout",
     "output_type": "stream",
     "text": [
      "[0j, (0.4082482904638631+0j), (-0.4082482904638631+0j), (0.8164965809277261+0j)] \n",
      " [(-0.4082482904638631+0j), 0j, (-0.20412414523193148+0.35355339059327384j), (-0.10206207261596577+0j)]\n",
      "(0.08333333333333333-0.1443375672974065j)\n"
     ]
    },
    {
     "data": {
      "text/plain": [
       "{'11': 1.0000000000000002,\n",
       " '12': 0,\n",
       " '13': 0,\n",
       " '14': 0,\n",
       " '15': 9.936926026465898e-08,\n",
       " '16': 0.1443375672974065,\n",
       " '17': 0,\n",
       " '18': 0.1443375672974065,\n",
       " '19': 9.936926027198933e-08,\n",
       " '22': 1.0000000000000004,\n",
       " '23': 0,\n",
       " '24': 0,\n",
       " '25': 0.1804219839640731,\n",
       " '26': 0,\n",
       " '27': 0.1443375672974065,\n",
       " '28': 0,\n",
       " '29': 0.036084416666666674,\n",
       " '33': 1.0000000000000002,\n",
       " '34': 0.5132065491623176,\n",
       " '35': 0.8101069083609339,\n",
       " '36': 0.5204164998665334,\n",
       " '37': 0.7147260547463858,\n",
       " '38': 0.40929553151898035,\n",
       " '39': 0.5166902906428555,\n",
       " '44': 1.0000000000000002,\n",
       " '45': 0.42018386597536883,\n",
       " '46': 0.36070370767703724,\n",
       " '47': 0.6837048860657935,\n",
       " '48': 0.5082410178128602,\n",
       " '49': 0.6083618168821769,\n",
       " '55': 1.0,\n",
       " '56': 0.43467746060488494,\n",
       " '57': 0.5639429382537906,\n",
       " '58': 0.5384319931654574,\n",
       " '59': 0.449473450695172,\n",
       " '66': 1.0000000000000002,\n",
       " '67': 0.5928392137277473,\n",
       " '68': 0.7844722356848826,\n",
       " '69': 0.7519088912701063,\n",
       " '77': 1.0000000000000004,\n",
       " '78': 0.43423685331037465,\n",
       " '79': 0.809970235187905,\n",
       " '88': 1.0000000000000002,\n",
       " '89': 0.7696723492789159,\n",
       " '99': 1.0}"
      ]
     },
     "execution_count": 15,
     "metadata": {},
     "output_type": "execute_result"
    }
   ],
   "source": [
    "povm56 = sol_56.full_POVM()\n",
    "\n",
    "# print(povm56[0], '\\n', povm56[1])\n",
    "\n",
    "print(povm56[0][:4], '\\n', povm56[7][:4])\n",
    "print(np.vdot(povm56[0][:3], povm56[7][:3]))\n",
    "# print(np.vdot(povm56[4], povm56[5]))\n",
    "\n",
    "rel56 = POVM_relations(povm56)\n",
    "rel56.all()\n"
   ]
  },
  {
   "cell_type": "code",
   "execution_count": 50,
   "metadata": {},
   "outputs": [
    {
     "name": "stdout",
     "output_type": "stream",
     "text": [
      "1 :  [2, 0]\n",
      "2 :  [0.5, 1.94]\n",
      "3 :  [0.5, 0.39]\n",
      "4 :  [(0.5+0j), (-0.39-0.45j)]\n",
      "5 :  [(-0.25-0.43j), (-0.19+0j)]\n",
      "6 :  [(-0.25+0.43j), (0.58+0j)]\n",
      "7 :  [0.5, -0.39]\n",
      "8 :  [(-0.25+0.43j), (-0.19-0.45j)]\n",
      "9 :  [(-0.25-0.43j), (0.58+0j)]\n"
     ]
    },
    {
     "data": {
      "text/plain": [
       "{'11': 1.0000000000000002,\n",
       " '12': 0,\n",
       " '13': 0,\n",
       " '14': 0,\n",
       " '15': 0,\n",
       " '16': 0,\n",
       " '17': 0,\n",
       " '18': 0,\n",
       " '19': 0,\n",
       " '22': 1.0000000000000004,\n",
       " '23': 0,\n",
       " '24': 0,\n",
       " '25': 0.18042195912175804,\n",
       " '26': 0.036084391824351615,\n",
       " '27': 0.1443375672974065,\n",
       " '28': 0.036084391824351615,\n",
       " '29': 0.036084391824351615,\n",
       " '33': 0.40000000000000013,\n",
       " '34': 0.2,\n",
       " '35': 0.20322913997095338,\n",
       " '36': 0.20628156324144278,\n",
       " '37': 0.17559422921421233,\n",
       " '38': 0.20013016597538055,\n",
       " '39': 0.2062815632414427,\n",
       " '44': 0.4333333333333334,\n",
       " '45': 0.1821457749532866,\n",
       " '46': 0.23859397170367352,\n",
       " '47': 0.10408329997330659,\n",
       " '48': 0.22294587036119579,\n",
       " '49': 0.13938107236398115,\n",
       " '55': 0.38125000000000003,\n",
       " '56': 0.2093827734875373,\n",
       " '57': 0.1953895681282226,\n",
       " '58': 0.17966258885291994,\n",
       " '59': 0.14375000000000002,\n",
       " '66': 0.43125000000000013,\n",
       " '67': 0.18214577495328665,\n",
       " '68': 0.15013015186830397,\n",
       " '69': 0.21599455047137964,\n",
       " '77': 0.4,\n",
       " '78': 0.18666480653835105,\n",
       " '79': 0.22787514856458863,\n",
       " '88': 0.41458333333333347,\n",
       " '89': 0.22100032993942195,\n",
       " '99': 0.43125}"
      ]
     },
     "execution_count": 50,
     "metadata": {},
     "output_type": "execute_result"
    }
   ],
   "source": [
    "for i in range(9):\n",
    "    print(f'{i+1} : ' ,np.round(POVM_unnormalized_5d[i][3:5], 2).tolist())\n",
    "\n",
    "#checking the inner products of five lists\n",
    "relxx = POVM_relations(POVM_normalized_5d).all()\n",
    "relxx"
   ]
  },
  {
   "cell_type": "code",
   "execution_count": 56,
   "metadata": {},
   "outputs": [
    {
     "name": "stdout",
     "output_type": "stream",
     "text": [
      "1 :  [2, 0]\n",
      "2 :  [0.5, 1.94]\n",
      "3 :  [0.5, 0.39]\n",
      "4 :  [(0.5+0j), (-0.39-0.45j)]\n",
      "5 :  [(-0.25-0.43j), (-0.19+0.56j)]\n",
      "6 :  [(-0.25+0.43j), (0.58-0.11j)]\n",
      "7 :  [(0.5+0j), (-0.39+0.45j)]\n",
      "8 :  [(-0.25+0.43j), (-0.19-0.56j)]\n",
      "9 :  [(-0.25-0.43j), (0.58+0.11j)]\n"
     ]
    },
    {
     "data": {
      "text/plain": [
       "{'11': 1.0000000000000002,\n",
       " '12': 0,\n",
       " '13': 0,\n",
       " '14': 0,\n",
       " '15': 0,\n",
       " '16': 0,\n",
       " '17': 0,\n",
       " '18': 0,\n",
       " '19': 0,\n",
       " '22': 1.0000000000000004,\n",
       " '23': 0,\n",
       " '24': 0,\n",
       " '25': 0,\n",
       " '26': 0,\n",
       " '27': 0,\n",
       " '28': 0,\n",
       " '29': 0,\n",
       " '33': 0.40000000000000013,\n",
       " '34': 0.2,\n",
       " '35': 0.20000000000000004,\n",
       " '36': 0.20000000000000007,\n",
       " '37': 0.2,\n",
       " '38': 0.20000000000000007,\n",
       " '39': 0.19999999999999998,\n",
       " '44': 0.4333333333333334,\n",
       " '45': 0.2333333333333333,\n",
       " '46': 0.2333333333333334,\n",
       " '47': 0.14529663145135577,\n",
       " '48': 0.23333333333333336,\n",
       " '49': 0.14529663145135582,\n",
       " '55': 0.43333333333333335,\n",
       " '56': 0.23333333333333336,\n",
       " '57': 0.2333333333333333,\n",
       " '58': 0.14529663145135582,\n",
       " '59': 0.1452966314513558,\n",
       " '66': 0.43333333333333346,\n",
       " '67': 0.14529663145135577,\n",
       " '68': 0.14529663145135582,\n",
       " '69': 0.2333333333333334,\n",
       " '77': 0.4333333333333333,\n",
       " '78': 0.2333333333333334,\n",
       " '79': 0.2333333333333333,\n",
       " '88': 0.4333333333333335,\n",
       " '89': 0.2333333333333334,\n",
       " '99': 0.43333333333333335}"
      ]
     },
     "execution_count": 56,
     "metadata": {},
     "output_type": "execute_result"
    }
   ],
   "source": [
    "for i in range(9):\n",
    "    print(f'{i+1} : ' ,np.round(POVM_unnormalized_5d[i][3:5], 2).tolist())\n",
    "\n",
    "#checking the inner products of five lists\n",
    "relxx_fixed = POVM_relations(POVM_normalized_5d).all()\n",
    "relxx_fixed"
   ]
  }
 ],
 "metadata": {
  "kernelspec": {
   "display_name": "Python 3",
   "language": "python",
   "name": "python3"
  },
  "language_info": {
   "codemirror_mode": {
    "name": "ipython",
    "version": 3
   },
   "file_extension": ".py",
   "mimetype": "text/x-python",
   "name": "python",
   "nbconvert_exporter": "python",
   "pygments_lexer": "ipython3",
   "version": "3.11.4"
  }
 },
 "nbformat": 4,
 "nbformat_minor": 2
}
