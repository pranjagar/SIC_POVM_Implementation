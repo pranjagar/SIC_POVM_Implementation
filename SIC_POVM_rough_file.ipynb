{
 "cells": [
  {
   "cell_type": "code",
   "execution_count": 1,
   "metadata": {},
   "outputs": [
    {
     "name": "stdout",
     "output_type": "stream",
     "text": [
      "Solution to the system: [ 5.39947499e-02 -5.39947499e-02  3.41479678e-01 -3.41479678e-01\n",
      " -3.49382845e-01  3.49382845e-01  1.36024980e-01  5.43783422e-02\n",
      " -5.43783422e-02  3.37911719e-01 -3.37911719e-01 -3.59205510e-01\n",
      "  3.59205510e-01  1.45687225e-01  7.02075490e-01 -7.02075490e-01\n",
      "  2.27088003e-01 -2.27088003e-01 -4.98689480e-01  4.98689480e-01\n",
      "  6.68160881e-01 -3.48936782e-02  3.48936782e-02 -4.66517243e-01\n",
      "  4.66517243e-01  1.45544506e-02 -1.45544506e-02 -1.17615790e-01\n",
      "  2.65383007e-13  1.00000000e+00 -8.95312658e-13  1.00000000e+00\n",
      "  3.72621111e-13  1.00000000e+00  2.02656113e-11]\n",
      "Residuals: [1.4329289114494227e-14, 8.89843754237063e-14, -2.3941606956446403e-13, -1.4241885448740277e-11, -3.5830365414834474e-12, -5.655476087440547e-13, -3.3992242188665557e-12, 1.443108797144431e-14, 9.413303470040546e-14, -2.312395045494266e-13, -1.4496293054833131e-11, -3.953847428263887e-12, -6.227240945122503e-13, -3.41774148409909e-12, 1.8631890489990362e-13, -4.3787196091216174e-13, -9.35950937187077e-13, -1.596534016101714e-11, -8.976318336586544e-12, -1.5116241591783819e-12, 4.049780674765952e-12, -9.26018924348646e-15, 6.58501031480796e-14, 4.981769014427321e-13, 6.1808336226931715e-12, -8.553341512450128e-12, -1.5221521959540851e-12, -3.6728283961331484e-12, 2.0394796962364126e-12, 3.0588864774472313e-12, 7.883693697863237e-12, 8.5158546880848e-12, 6.374012428977949e-12, 1.7430501486614958e-12, -1.2935330584440408e-10]\n",
      "Residuals sum: 2.564967642781538e-10\n"
     ]
    }
   ],
   "source": [
    "import sympy as sym\n",
    "import math as m\n",
    "import numpy as np\n",
    "import scipy.optimize\n",
    "from sympy import pprint\n",
    "from scipy.optimize import fsolve\n",
    "from scipy.optimize import least_squares\n",
    "from scipy.optimize import minimize\n",
    "\n",
    "import SIC_POVM_Jun27 as sic\n"
   ]
  },
  {
   "cell_type": "code",
   "execution_count": null,
   "metadata": {},
   "outputs": [],
   "source": []
  }
 ],
 "metadata": {
  "kernelspec": {
   "display_name": "Python 3",
   "language": "python",
   "name": "python3"
  },
  "language_info": {
   "codemirror_mode": {
    "name": "ipython",
    "version": 3
   },
   "file_extension": ".py",
   "mimetype": "text/x-python",
   "name": "python",
   "nbconvert_exporter": "python",
   "pygments_lexer": "ipython3",
   "version": "3.11.4"
  },
  "orig_nbformat": 4
 },
 "nbformat": 4,
 "nbformat_minor": 2
}
