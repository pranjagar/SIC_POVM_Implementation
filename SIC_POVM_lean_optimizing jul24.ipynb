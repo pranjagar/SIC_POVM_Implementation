{
 "cells": [
  {
   "cell_type": "code",
   "execution_count": 1,
   "metadata": {},
   "outputs": [
    {
     "name": "stdout",
     "output_type": "stream",
     "text": [
      "[(6+0j), (6+0j), (2.4+0j), (2.5999999999999996+1.637849848627056e-17j), (2.287500258169+0j), (2.4+2.2311252215006176e-17j), (2.4-2.576281494458285e-17j), (2.3000000000000003-4.125283626344832e-18j), (2.587500258169+0j)]\n"
     ]
    },
    {
     "name": "stderr",
     "output_type": "stream",
     "text": [
      "/Library/Frameworks/Python.framework/Versions/3.11/lib/python3.11/site-packages/scipy/optimize/_minpack_py.py:239: ComplexWarning: Casting complex values to real discards the imaginary part\n",
      "  retval = _minpack._hybrd(func, x0, args, 1, xtol, maxfev,\n",
      "/Library/Frameworks/Python.framework/Versions/3.11/lib/python3.11/site-packages/scipy/optimize/_minpack_py.py:177: RuntimeWarning: The iteration is not making good progress, as measured by the \n",
      "  improvement from the last five Jacobian evaluations.\n",
      "  warnings.warn(msg, RuntimeWarning)\n"
     ]
    }
   ],
   "source": [
    "import sympy as sym\n",
    "import math as m\n",
    "import numpy as np\n",
    "import pandas as pd\n",
    "\n",
    "import scipy.optimize\n",
    "from sympy import pprint\n",
    "from scipy.optimize import fsolve\n",
    "from scipy.optimize import least_squares\n",
    "from scipy.optimize import minimize\n",
    "\n",
    "import numpy as np\n",
    "import matplotlib.pyplot as plt\n",
    "from sklearn.cluster import KMeans\n",
    "from sklearn.decomposition import PCA\n",
    "from sklearn.metrics import silhouette_score\n",
    "\n",
    "from sklearn.neighbors import KNeighborsClassifier\n",
    "from sklearn.decomposition import PCA\n",
    "import matplotlib.pyplot as plt\n",
    "\n",
    "import SIC_POVM_functions as sic\n",
    "\n",
    "import warnings\n",
    "warnings.filterwarnings(\"ignore\", category=RuntimeWarning)\n"
   ]
  },
  {
   "cell_type": "code",
   "execution_count": 2,
   "metadata": {},
   "outputs": [
    {
     "data": {
      "text/plain": [
       "\"#Class definitions #1\\nclass seed_sol:\\n    def __init__(self, seed):\\n        self.seed = seed\\n    @property\\n    def initial_guess(self):\\n        np.random.seed(self.seed)\\n        initial_guess = np.random.rand(35)  # random initial guess\\n        return initial_guess\\n    @property\\n    def solution(self):\\n        solution = fsolve(Lagrange_eqs, self.initial_guess)\\n        return solution\\n    @property\\n    def res_list(self):\\n        res_list = Lagrange_eqs(self.solution)\\n        return res_list\\n    @property\\n    def res(self):\\n        res = np.sum(np.abs(self.res_list))\\n        return res\\n    def full_POVM(self):\\n        #break solution into 4 parts, remove the last 7 elements\\n        sol = self.solution\\n        solution_add = [sol[:7], sol[7:14], sol[14:21], sol[21:28]]     # divide into 4 parts of 7\\n        POVM_normalized_9d = [list(i) for i in POVM_normalized_5d]         # deep copy \\n        for i in range(2):                              # first two vecs are known\\n            POVM_normalized_9d[i].extend([0] *4)\\n        for part in solution_add:                       # adding (already normalized) elements from the solution to make the remaining vectors 9d\\n            for i in range(7):\\n                # POVM_normalized_9d[i+2].append(part[i])\\n                POVM_normalized_9d[i+2].append((1/np.sqrt(6))*(part[i]))        # normalizing coming from the fixing of the lagrangian eqns\\n        return POVM_normalized_9d\\n\\n\\nclass POVM_relations:\\n    def __init__(self, POVM_vec_list):\\n        self.POVM_vec_list = np.array(POVM_vec_list)        # making array for easy dot product\\n        self.inner_products = {}\\n    def dot_product(self, i, j):\\n        if i < 0 or j < 0 or i > 8 or j > 8:\\n            raise ValueError('Bad index, must be integer 0 to 8')\\n        return np.vdot(self.POVM_vec_list[i], self.POVM_vec_list[j])\\n    def all(self, clean = True, threshold = 1e-12, absolutes = True):\\n        if len(self.POVM_vec_list) != 9:\\n            raise ValueError('The POVM list must have 9 elements')\\n        for i in range(9):\\n            for j in range(i, 9):\\n                key = f'{i+1}{j+1}'\\n                value = self.dot_product(i, j)\\n                self.inner_products[key] = value\\n        #cleaning the dictionary\\n        rel = self.inner_products\\n        for key in rel:\\n            if absolutes == True:\\n                rel[key] = abs(rel[key])\\n            if abs(rel[key]) < threshold:\\n                rel[key] = 0\\n        return rel\\n\""
      ]
     },
     "execution_count": 2,
     "metadata": {},
     "output_type": "execute_result"
    }
   ],
   "source": [
    "\"\"\"#Class definitions #1\n",
    "class seed_sol:\n",
    "    def __init__(self, seed):\n",
    "        self.seed = seed\n",
    "    @property\n",
    "    def initial_guess(self):\n",
    "        np.random.seed(self.seed)\n",
    "        initial_guess = np.random.rand(35)  # random initial guess\n",
    "        return initial_guess\n",
    "    @property\n",
    "    def solution(self):\n",
    "        solution = fsolve(Lagrange_eqs, self.initial_guess)\n",
    "        return solution\n",
    "    @property\n",
    "    def res_list(self):\n",
    "        res_list = Lagrange_eqs(self.solution)\n",
    "        return res_list\n",
    "    @property\n",
    "    def res(self):\n",
    "        res = np.sum(np.abs(self.res_list))\n",
    "        return res\n",
    "    def full_POVM(self):\n",
    "        #break solution into 4 parts, remove the last 7 elements\n",
    "        sol = self.solution\n",
    "        solution_add = [sol[:7], sol[7:14], sol[14:21], sol[21:28]]     # divide into 4 parts of 7\n",
    "        POVM_normalized_9d = [list(i) for i in POVM_normalized_5d]         # deep copy \n",
    "        for i in range(2):                              # first two vecs are known\n",
    "            POVM_normalized_9d[i].extend([0] *4)\n",
    "        for part in solution_add:                       # adding (already normalized) elements from the solution to make the remaining vectors 9d\n",
    "            for i in range(7):\n",
    "                # POVM_normalized_9d[i+2].append(part[i])\n",
    "                POVM_normalized_9d[i+2].append((1/np.sqrt(6))*(part[i]))        # normalizing coming from the fixing of the lagrangian eqns\n",
    "        return POVM_normalized_9d\n",
    "\n",
    "\n",
    "class POVM_relations:\n",
    "    def __init__(self, POVM_vec_list):\n",
    "        self.POVM_vec_list = np.array(POVM_vec_list)        # making array for easy dot product\n",
    "        self.inner_products = {}\n",
    "    def dot_product(self, i, j):\n",
    "        if i < 0 or j < 0 or i > 8 or j > 8:\n",
    "            raise ValueError('Bad index, must be integer 0 to 8')\n",
    "        return np.vdot(self.POVM_vec_list[i], self.POVM_vec_list[j])\n",
    "    def all(self, clean = True, threshold = 1e-12, absolutes = True):\n",
    "        if len(self.POVM_vec_list) != 9:\n",
    "            raise ValueError('The POVM list must have 9 elements')\n",
    "        for i in range(9):\n",
    "            for j in range(i, 9):\n",
    "                key = f'{i+1}{j+1}'\n",
    "                value = self.dot_product(i, j)\n",
    "                self.inner_products[key] = value\n",
    "        #cleaning the dictionary\n",
    "        rel = self.inner_products\n",
    "        for key in rel:\n",
    "            if absolutes == True:\n",
    "                rel[key] = abs(rel[key])\n",
    "            if abs(rel[key]) < threshold:\n",
    "                rel[key] = 0\n",
    "        return rel\n",
    "\"\"\""
   ]
  },
  {
   "cell_type": "code",
   "execution_count": 3,
   "metadata": {},
   "outputs": [],
   "source": [
    "#Class definitions #2\n",
    "class povm_create:                  # creates POVM object given a list of 28 coefficients (the unknown variables)\n",
    "    def __init__(self, coeffs):     # coeffs is the given list of 28 coefficients, make sure it is unnormalized!\n",
    "        self.coeffs = coeffs\n",
    "    @property\n",
    "    def full_POVM(self):\n",
    "        #break solution into 4 parts, remove the last 7 elements\n",
    "        POVM_normalized_5d_np = np.array(POVM_normalized_5d).T      # transpose to get 5x9 array \n",
    "        # print(POVM_normalized_5d_np.shape)        \n",
    "        # print(POVM_normalized_5d_np)        \n",
    "\n",
    "        sol_56 = np.array(self.coeffs)\n",
    "        sol = sol_56[:28] + 1j * sol_56[28:]        # combine to make 28 complex      \n",
    "        sol = sol.reshape(4, 7)                     # reshape to 4x7\n",
    "        zero_columns = np.zeros((4, 2))              # 2 columns of zeros\n",
    "        sol_padded_normalized = (1/np.sqrt(6))*np.concatenate((zero_columns, sol), axis=1)\n",
    "        \n",
    "        POVM_normalized_9d = np.concatenate((POVM_normalized_5d_np , sol_padded_normalized), axis=0)\n",
    "        # print(POVM_normalized_9d.shape)\n",
    "        # print(POVM_normalized_9d)\n",
    "        return POVM_normalized_9d\n",
    "\n",
    "\n",
    "\n",
    "class POVM_gram_matrix:\n",
    "    def __init__(self, POVM_vec_list):\n",
    "        self.POVM_vec_list = np.array(POVM_vec_list)        # making array for easy dot product\n",
    "    @property\n",
    "    def gram_matrix(self):\n",
    "        povm_matrix = self.POVM_vec_list\n",
    "        povm_matrix_dagger = np.conjugate(povm_matrix).T\n",
    "\n",
    "        gram_matrix = povm_matrix_dagger @ povm_matrix\n",
    "        \n",
    "        return gram_matrix\n",
    "    \n"
   ]
  },
  {
   "cell_type": "code",
   "execution_count": 4,
   "metadata": {},
   "outputs": [
    {
     "name": "stdout",
     "output_type": "stream",
     "text": [
      "delta_five_fixed =  [(0.40000000000000013+0j), (0.4333333333333334-1.5431352694421904e-18j), (0.43333333333333335+1.0728477129103336e-18j), (0.43333333333333346-4.471148278649265e-19j), (0.4333333333333333+2.6275172237666522e-18j), (0.4333333333333335+2.267799535210488e-19j), (0.43333333333333335+6.251554030278836e-19j)]\n"
     ]
    }
   ],
   "source": [
    "# creating five lists POVMs\n",
    "\n",
    "w = m.e**((2/3)*m.pi*(1j))     # third root of unity\n",
    "POVM_unnormalized = [[0,1,-1],[-1,0,1],[1,-1,0],[0,w,-w**2],[-1,0,w**2],[1,-w,0],[0,w**2,-w],[-1,0,w],[1,-w**2,0]]             # unnormalized POVM direction vectors\n",
    "# POVM_vec = (1/(2**.5))*(np.array([[0,1,-1],[-1,0,1],[1,-1,0],[0,w,-w**2],[-1,0,w**2],[1,-w,0],[0,w**2,-w],[-1,0,w],[1,-w**2,0]]))  # normalized POVM direction vectors\n",
    "POVM_vec = (1/np.sqrt(2))*(np.array([[0,1,-1],[-1,0,1],[1,-1,0],[0,w,-w**2],[-1,0,w**2],[1,-w,0],[0,w**2,-w],[-1,0,w],[1,-w**2,0]]))  # normalized POVM direction vectors\n",
    "\n",
    "# c4j_list = [2,.5,.5,.5, (-.25-.433013j), -.25, .5, -.25, (-.25-.433013j)]           # fourth elements, not normalized yet. See sic.py for calcs\n",
    "c4j_list = [2,.5,.5,.5, (-.25-.25j*np.sqrt(3)), (-.25+.25j*np.sqrt(3)), .5, (-.25+.25j*np.sqrt(3)), (-.25-.25j*np.sqrt(3))]           # fourth elements, not normalized yet. See sic.py for calcs\n",
    "# c5j_list = [0, np.sqrt(15)/2 , 0.38729833462074165, (-0.38729833462074176-0.44721359549995776j), -0.19364916731037082, 0.5809475019311124, -0.38729833462074165, (-0.19364916731037093-0.4472135954999579j), 0.5809475019311124]\n",
    "c5j_list = [0, np.sqrt(15)/2 , (1/np.sqrt(15))*(3/2), (1/np.sqrt(15))*(2*w**2-.5) ,-(1/np.sqrt(15))*(2+(5/2)*w**2), (1/np.sqrt(15))*(2-w/2), (1/np.sqrt(15))*(2*w-.5), -(1/np.sqrt(15))*(2+(5/2)*w), (1/np.sqrt(15))*(2-.5*w**2)]\n",
    "\n",
    "POVM_unnormalized_5d = []\n",
    "for i in range(len(POVM_unnormalized)):\n",
    "\t# Directly append c4j_list[i] and c5j_list[i] to the copies of lists in POVM_unnormalized\n",
    "\tvec_5d_i = POVM_unnormalized[i] + [c4j_list[i], c5j_list[i]]\n",
    "\tPOVM_unnormalized_5d.append(vec_5d_i)\n",
    "\n",
    "POVM_unnormalized_5d[0]    ## unnormalized 5-lists POVM vectors\n",
    "\n",
    "POVM_normalized_5d = ((1/(6**.5))*(np.array(POVM_unnormalized_5d))).tolist()       # normalized 5-lists POVM vectors\n",
    "\n",
    "#print and compare\n",
    "# print(POVM_unnormalized_5d[0])\t## UNnormalized 5-lists POVM vectors\n",
    "# print(POVM_normalized_5d[0])\t## normalized 5-lists POVM vectors\n",
    "\n",
    "# delta_five  = [0.400000000000000, 0.433333333333333, 0.381250043028167, 0.400000000000000, 0.400000000000000, 0.383333333333333, 0.431250043028167]\n",
    "# delta_five_new = [(0.40000000000000013+0j), (0.4333333333333334-1.5431352694421904e-18j), (0.3812500430281667+0j), (0.40000000000000013-3.0923901048776238e-18j), (0.4+1.898287466587076e-18j), (0.38333333333333347-7.881938927040631e-19j), (0.4312500430281667+3.469446951953614e-18j)]\n",
    "# print('delta_five_new = ', [np.vdot(POVM_normalized_5d[i], POVM_normalized_5d[i]) for i in range(9)])\n",
    "delta_five_fixed = [ np.vdot(POVM_normalized_5d[i], POVM_normalized_5d[i]) for i in range(2,9)]\n",
    "print('delta_five_fixed = ', delta_five_fixed)\n"
   ]
  },
  {
   "cell_type": "code",
   "execution_count": 5,
   "metadata": {},
   "outputs": [],
   "source": [
    "def Relation_Res(vars_full):     # vars should be a list of 56 elements - 28 real and corresponding to them 28 imaginary\n",
    "    vars_np = np.array(vars_full)    # convert to array\n",
    "    \n",
    "    # complex_vars = [ c + 1j*y for c, y in zip(vars_full[:28], vars_full[28:])]    #create 28 complex variables combining the real and imaginary parts\n",
    "    # complex_vars = vars_np[:28] + 1j*vars_np[28:]    #create 28 complex variables combining the real and imaginary parts\n",
    "\n",
    "    # we don;t even need to combine the real and imaginary parts, it is done in the class function itself. so just pass the 56 elements directly\n",
    "    povm = povm_create(vars_full).full_POVM             # create POVM object and use that to get the POVM list\n",
    "    povm_gram_matrix = POVM_gram_matrix(povm).gram_matrix         # get the gram matrix of the POVM\n",
    "    residue_ortho = (1/2)* np.sum(np.abs(povm_gram_matrix - np.eye(9)))    # calculate the residue\n",
    "    return residue_ortho"
   ]
  },
  {
   "cell_type": "code",
   "execution_count": 54,
   "metadata": {},
   "outputs": [
    {
     "name": "stdout",
     "output_type": "stream",
     "text": [
      "301 8.106160346151403e-08\n",
      "302 7.308701427270959e-08\n",
      "303 6.209077467295147e-08\n",
      "304 6.078349313770396e-08\n",
      "305 8.284137357480267e-08\n",
      "306 7.294910862793166e-08\n",
      "307 7.443828539688428e-08\n",
      "308 6.597905585667282e-08\n",
      "309 6.620397690390861e-08\n",
      "310 6.9900830101836e-08\n",
      "311 6.235140216480497e-08\n",
      "312 7.68193314993818e-08\n",
      "313 6.461726626374507e-08\n",
      "314 6.244445751407915e-08\n",
      "315 8.129389396781071e-08\n",
      "316 6.138230290013114e-08\n",
      "317 6.796535843840606e-08\n",
      "318 6.778523233529312e-08\n",
      "319 7.947764788540479e-08\n",
      "320 7.894141313559618e-08\n",
      "321 5.768424924866765e-08\n",
      "322 7.071047544811794e-08\n",
      "323 9.127493937536281e-08\n",
      "324 8.550751689802569e-08\n",
      "325 7.924866526443633e-08\n",
      "326 5.7165600427715364e-08\n",
      "327 6.551710042742059e-08\n",
      "328 7.026399567442605e-08\n",
      "329 5.949801044576599e-08\n",
      "330 6.599774407746878e-08\n",
      "331 8.735491931901826e-08\n",
      "332 6.504291028765125e-08\n",
      "333 6.925291148702246e-08\n",
      "334 7.299632571227706e-08\n",
      "335 5.688435859379166e-08\n",
      "336 7.315518459148872e-08\n",
      "337 8.711288582391639e-08\n",
      "338 6.334527072799585e-08\n",
      "339 6.406648254072795e-08\n",
      "340 7.016478485167985e-08\n",
      "341 6.968568000651986e-08\n",
      "342 6.275243280227148e-08\n",
      "343 9.66334457565916e-08\n",
      "344 5.880404292072743e-08\n",
      "345 6.800181556513712e-08\n",
      "346 6.412526476715452e-08\n",
      "347 9.528515320087353e-08\n",
      "348 6.223501142392105e-08\n",
      "349 6.7127634297551e-08\n",
      "350 9.196975065161984e-08\n",
      "351 6.600691411511622e-08\n",
      "353 7.0657291293909e-08\n",
      "354 7.109635045424387e-08\n",
      "355 7.356512421041931e-08\n",
      "356 6.264005105511954e-08\n",
      "357 6.468016966597754e-08\n",
      "358 7.639730367840475e-08\n",
      "359 5.648531319810499e-08\n",
      "360 6.40317708102099e-08\n",
      "361 4.399954273027617e-08\n",
      "362 6.692062171884008e-08\n",
      "363 6.473358285982936e-08\n",
      "364 7.175089585783105e-08\n",
      "365 6.371064083496823e-08\n",
      "366 7.976014168656642e-08\n",
      "367 5.996620023710338e-08\n",
      "368 6.216624200746173e-08\n",
      "369 5.398222208116611e-08\n",
      "370 8.869871407916901e-08\n",
      "371 6.707158966010446e-08\n",
      "372 7.532035941640245e-08\n",
      "373 6.570940668160573e-08\n",
      "374 5.7419931468831646e-08\n",
      "375 6.66326153286232e-08\n",
      "377 7.069323808471037e-08\n",
      "378 6.243907911350444e-08\n",
      "379 6.521476100685362e-08\n",
      "380 6.634898051204723e-08\n",
      "381 6.19325355789082e-08\n",
      "382 5.6590515243313815e-08\n",
      "383 6.148273998256718e-08\n",
      "384 6.480775219232373e-08\n",
      "385 5.806194425207105e-08\n",
      "386 6.948597550494336e-08\n",
      "387 7.027721465493236e-08\n",
      "388 5.525809914557552e-08\n",
      "389 5.926577361369863e-08\n",
      "390 6.395056892947978e-08\n",
      "391 6.481450574978777e-08\n",
      "392 5.478582238156967e-08\n",
      "393 8.852061066159257e-08\n",
      "394 6.895936757841556e-08\n",
      "395 6.9011934405021e-08\n",
      "396 7.596168061885702e-08\n",
      "397 5.652209601514584e-08\n",
      "398 6.174614637878668e-08\n",
      "399 6.810901222436125e-08\n",
      "400 6.6608209756826e-08\n",
      "401 7.088930404912395e-08\n",
      "402 6.149325449198887e-08\n",
      "403 8.003868339793627e-08\n",
      "404 6.505712246426725e-08\n",
      "405 6.641931148488697e-08\n",
      "406 9.617422922012468e-08\n",
      "407 6.77124773737934e-08\n",
      "408 6.47862446416747e-08\n",
      "409 6.377166545981702e-08\n",
      "410 9.504200976418188e-08\n",
      "411 6.651456809772135e-08\n",
      "412 6.541060500776021e-08\n",
      "413 7.28945691945741e-08\n",
      "414 7.865223799262435e-08\n",
      "415 7.240676261437858e-08\n",
      "416 5.3344144286798656e-08\n",
      "417 6.841714696167094e-08\n",
      "418 6.554371430499985e-08\n",
      "419 6.636117857881093e-08\n",
      "420 6.302550485857999e-08\n",
      "421 6.456505664346326e-08\n",
      "422 5.276849095451831e-08\n",
      "423 8.87378569232275e-08\n",
      "424 6.796372596723615e-08\n",
      "425 7.265050084600369e-08\n",
      "426 5.890150374343494e-08\n",
      "427 9.75364370696229e-08\n",
      "428 6.730857418306156e-08\n",
      "429 6.455212220548512e-08\n",
      "430 6.576457215135562e-08\n",
      "431 7.191218423563866e-08\n",
      "432 8.469408469170539e-08\n"
     ]
    },
    {
     "ename": "KeyboardInterrupt",
     "evalue": "",
     "output_type": "error",
     "traceback": [
      "\u001b[0;31m---------------------------------------------------------------------------\u001b[0m",
      "\u001b[0;31mKeyboardInterrupt\u001b[0m                         Traceback (most recent call last)",
      "Cell \u001b[0;32mIn[54], line 9\u001b[0m\n\u001b[1;32m      7\u001b[0m np\u001b[38;5;241m.\u001b[39mrandom\u001b[38;5;241m.\u001b[39mseed(i)\n\u001b[1;32m      8\u001b[0m ig \u001b[38;5;241m=\u001b[39m np\u001b[38;5;241m.\u001b[39mrandom\u001b[38;5;241m.\u001b[39mrand(\u001b[38;5;241m56\u001b[39m)\n\u001b[0;32m----> 9\u001b[0m sol \u001b[38;5;241m=\u001b[39m \u001b[43mminimize\u001b[49m\u001b[43m(\u001b[49m\u001b[43mRelation_Res\u001b[49m\u001b[43m,\u001b[49m\u001b[43m \u001b[49m\u001b[43mig\u001b[49m\u001b[43m,\u001b[49m\u001b[43m \u001b[49m\u001b[43mmethod\u001b[49m\u001b[38;5;241;43m=\u001b[39;49m\u001b[38;5;124;43m'\u001b[39;49m\u001b[38;5;124;43mCG\u001b[39;49m\u001b[38;5;124;43m'\u001b[39;49m\u001b[43m,\u001b[49m\u001b[43m \u001b[49m\u001b[43mtol\u001b[49m\u001b[38;5;241;43m=\u001b[39;49m\u001b[38;5;241;43m1e-15\u001b[39;49m\u001b[43m)\u001b[49m\n\u001b[1;32m     10\u001b[0m \u001b[38;5;28;01mif\u001b[39;00m i\u001b[38;5;241m%\u001b[39m\u001b[38;5;241m250\u001b[39m \u001b[38;5;241m==\u001b[39m \u001b[38;5;241m0\u001b[39m:\n\u001b[1;32m     11\u001b[0m     \u001b[38;5;28mprint\u001b[39m(i)\n",
      "File \u001b[0;32m/Library/Frameworks/Python.framework/Versions/3.11/lib/python3.11/site-packages/scipy/optimize/_minimize.py:703\u001b[0m, in \u001b[0;36mminimize\u001b[0;34m(fun, x0, args, method, jac, hess, hessp, bounds, constraints, tol, callback, options)\u001b[0m\n\u001b[1;32m    701\u001b[0m     res \u001b[38;5;241m=\u001b[39m _minimize_powell(fun, x0, args, callback, bounds, \u001b[38;5;241m*\u001b[39m\u001b[38;5;241m*\u001b[39moptions)\n\u001b[1;32m    702\u001b[0m \u001b[38;5;28;01melif\u001b[39;00m meth \u001b[38;5;241m==\u001b[39m \u001b[38;5;124m'\u001b[39m\u001b[38;5;124mcg\u001b[39m\u001b[38;5;124m'\u001b[39m:\n\u001b[0;32m--> 703\u001b[0m     res \u001b[38;5;241m=\u001b[39m \u001b[43m_minimize_cg\u001b[49m\u001b[43m(\u001b[49m\u001b[43mfun\u001b[49m\u001b[43m,\u001b[49m\u001b[43m \u001b[49m\u001b[43mx0\u001b[49m\u001b[43m,\u001b[49m\u001b[43m \u001b[49m\u001b[43margs\u001b[49m\u001b[43m,\u001b[49m\u001b[43m \u001b[49m\u001b[43mjac\u001b[49m\u001b[43m,\u001b[49m\u001b[43m \u001b[49m\u001b[43mcallback\u001b[49m\u001b[43m,\u001b[49m\u001b[43m \u001b[49m\u001b[38;5;241;43m*\u001b[39;49m\u001b[38;5;241;43m*\u001b[39;49m\u001b[43moptions\u001b[49m\u001b[43m)\u001b[49m\n\u001b[1;32m    704\u001b[0m \u001b[38;5;28;01melif\u001b[39;00m meth \u001b[38;5;241m==\u001b[39m \u001b[38;5;124m'\u001b[39m\u001b[38;5;124mbfgs\u001b[39m\u001b[38;5;124m'\u001b[39m:\n\u001b[1;32m    705\u001b[0m     res \u001b[38;5;241m=\u001b[39m _minimize_bfgs(fun, x0, args, jac, callback, \u001b[38;5;241m*\u001b[39m\u001b[38;5;241m*\u001b[39moptions)\n",
      "File \u001b[0;32m/Library/Frameworks/Python.framework/Versions/3.11/lib/python3.11/site-packages/scipy/optimize/_optimize.py:1808\u001b[0m, in \u001b[0;36m_minimize_cg\u001b[0;34m(fun, x0, args, jac, callback, gtol, norm, eps, maxiter, disp, return_all, finite_diff_rel_step, **unknown_options)\u001b[0m\n\u001b[1;32m   1804\u001b[0m     \u001b[38;5;28;01mreturn\u001b[39;00m np\u001b[38;5;241m.\u001b[39mdot(pk, gfk) \u001b[38;5;241m<\u001b[39m\u001b[38;5;241m=\u001b[39m \u001b[38;5;241m-\u001b[39msigma_3 \u001b[38;5;241m*\u001b[39m np\u001b[38;5;241m.\u001b[39mdot(gfk, gfk)\n\u001b[1;32m   1806\u001b[0m \u001b[38;5;28;01mtry\u001b[39;00m:\n\u001b[1;32m   1807\u001b[0m     alpha_k, fc, gc, old_fval, old_old_fval, gfkp1 \u001b[38;5;241m=\u001b[39m \\\n\u001b[0;32m-> 1808\u001b[0m              \u001b[43m_line_search_wolfe12\u001b[49m\u001b[43m(\u001b[49m\u001b[43mf\u001b[49m\u001b[43m,\u001b[49m\u001b[43m \u001b[49m\u001b[43mmyfprime\u001b[49m\u001b[43m,\u001b[49m\u001b[43m \u001b[49m\u001b[43mxk\u001b[49m\u001b[43m,\u001b[49m\u001b[43m \u001b[49m\u001b[43mpk\u001b[49m\u001b[43m,\u001b[49m\u001b[43m \u001b[49m\u001b[43mgfk\u001b[49m\u001b[43m,\u001b[49m\u001b[43m \u001b[49m\u001b[43mold_fval\u001b[49m\u001b[43m,\u001b[49m\n\u001b[1;32m   1809\u001b[0m \u001b[43m                                  \u001b[49m\u001b[43mold_old_fval\u001b[49m\u001b[43m,\u001b[49m\u001b[43m \u001b[49m\u001b[43mc2\u001b[49m\u001b[38;5;241;43m=\u001b[39;49m\u001b[38;5;241;43m0.4\u001b[39;49m\u001b[43m,\u001b[49m\u001b[43m \u001b[49m\u001b[43mamin\u001b[49m\u001b[38;5;241;43m=\u001b[39;49m\u001b[38;5;241;43m1e-100\u001b[39;49m\u001b[43m,\u001b[49m\u001b[43m \u001b[49m\u001b[43mamax\u001b[49m\u001b[38;5;241;43m=\u001b[39;49m\u001b[38;5;241;43m1e100\u001b[39;49m\u001b[43m,\u001b[49m\n\u001b[1;32m   1810\u001b[0m \u001b[43m                                  \u001b[49m\u001b[43mextra_condition\u001b[49m\u001b[38;5;241;43m=\u001b[39;49m\u001b[43mdescent_condition\u001b[49m\u001b[43m)\u001b[49m\n\u001b[1;32m   1811\u001b[0m \u001b[38;5;28;01mexcept\u001b[39;00m _LineSearchError:\n\u001b[1;32m   1812\u001b[0m     \u001b[38;5;66;03m# Line search failed to find a better solution.\u001b[39;00m\n\u001b[1;32m   1813\u001b[0m     warnflag \u001b[38;5;241m=\u001b[39m \u001b[38;5;241m2\u001b[39m\n",
      "File \u001b[0;32m/Library/Frameworks/Python.framework/Versions/3.11/lib/python3.11/site-packages/scipy/optimize/_optimize.py:1215\u001b[0m, in \u001b[0;36m_line_search_wolfe12\u001b[0;34m(f, fprime, xk, pk, gfk, old_fval, old_old_fval, **kwargs)\u001b[0m\n\u001b[1;32m   1201\u001b[0m \u001b[38;5;250m\u001b[39m\u001b[38;5;124;03m\"\"\"\u001b[39;00m\n\u001b[1;32m   1202\u001b[0m \u001b[38;5;124;03mSame as line_search_wolfe1, but fall back to line_search_wolfe2 if\u001b[39;00m\n\u001b[1;32m   1203\u001b[0m \u001b[38;5;124;03msuitable step length is not found, and raise an exception if a\u001b[39;00m\n\u001b[0;32m   (...)\u001b[0m\n\u001b[1;32m   1210\u001b[0m \n\u001b[1;32m   1211\u001b[0m \u001b[38;5;124;03m\"\"\"\u001b[39;00m\n\u001b[1;32m   1213\u001b[0m extra_condition \u001b[38;5;241m=\u001b[39m kwargs\u001b[38;5;241m.\u001b[39mpop(\u001b[38;5;124m'\u001b[39m\u001b[38;5;124mextra_condition\u001b[39m\u001b[38;5;124m'\u001b[39m, \u001b[38;5;28;01mNone\u001b[39;00m)\n\u001b[0;32m-> 1215\u001b[0m ret \u001b[38;5;241m=\u001b[39m \u001b[43mline_search_wolfe1\u001b[49m\u001b[43m(\u001b[49m\u001b[43mf\u001b[49m\u001b[43m,\u001b[49m\u001b[43m \u001b[49m\u001b[43mfprime\u001b[49m\u001b[43m,\u001b[49m\u001b[43m \u001b[49m\u001b[43mxk\u001b[49m\u001b[43m,\u001b[49m\u001b[43m \u001b[49m\u001b[43mpk\u001b[49m\u001b[43m,\u001b[49m\u001b[43m \u001b[49m\u001b[43mgfk\u001b[49m\u001b[43m,\u001b[49m\n\u001b[1;32m   1216\u001b[0m \u001b[43m                         \u001b[49m\u001b[43mold_fval\u001b[49m\u001b[43m,\u001b[49m\u001b[43m \u001b[49m\u001b[43mold_old_fval\u001b[49m\u001b[43m,\u001b[49m\n\u001b[1;32m   1217\u001b[0m \u001b[43m                         \u001b[49m\u001b[38;5;241;43m*\u001b[39;49m\u001b[38;5;241;43m*\u001b[39;49m\u001b[43mkwargs\u001b[49m\u001b[43m)\u001b[49m\n\u001b[1;32m   1219\u001b[0m \u001b[38;5;28;01mif\u001b[39;00m ret[\u001b[38;5;241m0\u001b[39m] \u001b[38;5;129;01mis\u001b[39;00m \u001b[38;5;129;01mnot\u001b[39;00m \u001b[38;5;28;01mNone\u001b[39;00m \u001b[38;5;129;01mand\u001b[39;00m extra_condition \u001b[38;5;129;01mis\u001b[39;00m \u001b[38;5;129;01mnot\u001b[39;00m \u001b[38;5;28;01mNone\u001b[39;00m:\n\u001b[1;32m   1220\u001b[0m     xp1 \u001b[38;5;241m=\u001b[39m xk \u001b[38;5;241m+\u001b[39m ret[\u001b[38;5;241m0\u001b[39m] \u001b[38;5;241m*\u001b[39m pk\n",
      "File \u001b[0;32m/Library/Frameworks/Python.framework/Versions/3.11/lib/python3.11/site-packages/scipy/optimize/_linesearch.py:84\u001b[0m, in \u001b[0;36mline_search_wolfe1\u001b[0;34m(f, fprime, xk, pk, gfk, old_fval, old_old_fval, args, c1, c2, amax, amin, xtol)\u001b[0m\n\u001b[1;32m     80\u001b[0m     \u001b[38;5;28;01mreturn\u001b[39;00m np\u001b[38;5;241m.\u001b[39mdot(gval[\u001b[38;5;241m0\u001b[39m], pk)\n\u001b[1;32m     82\u001b[0m derphi0 \u001b[38;5;241m=\u001b[39m np\u001b[38;5;241m.\u001b[39mdot(gfk, pk)\n\u001b[0;32m---> 84\u001b[0m stp, fval, old_fval \u001b[38;5;241m=\u001b[39m \u001b[43mscalar_search_wolfe1\u001b[49m\u001b[43m(\u001b[49m\n\u001b[1;32m     85\u001b[0m \u001b[43m        \u001b[49m\u001b[43mphi\u001b[49m\u001b[43m,\u001b[49m\u001b[43m \u001b[49m\u001b[43mderphi\u001b[49m\u001b[43m,\u001b[49m\u001b[43m \u001b[49m\u001b[43mold_fval\u001b[49m\u001b[43m,\u001b[49m\u001b[43m \u001b[49m\u001b[43mold_old_fval\u001b[49m\u001b[43m,\u001b[49m\u001b[43m \u001b[49m\u001b[43mderphi0\u001b[49m\u001b[43m,\u001b[49m\n\u001b[1;32m     86\u001b[0m \u001b[43m        \u001b[49m\u001b[43mc1\u001b[49m\u001b[38;5;241;43m=\u001b[39;49m\u001b[43mc1\u001b[49m\u001b[43m,\u001b[49m\u001b[43m \u001b[49m\u001b[43mc2\u001b[49m\u001b[38;5;241;43m=\u001b[39;49m\u001b[43mc2\u001b[49m\u001b[43m,\u001b[49m\u001b[43m \u001b[49m\u001b[43mamax\u001b[49m\u001b[38;5;241;43m=\u001b[39;49m\u001b[43mamax\u001b[49m\u001b[43m,\u001b[49m\u001b[43m \u001b[49m\u001b[43mamin\u001b[49m\u001b[38;5;241;43m=\u001b[39;49m\u001b[43mamin\u001b[49m\u001b[43m,\u001b[49m\u001b[43m \u001b[49m\u001b[43mxtol\u001b[49m\u001b[38;5;241;43m=\u001b[39;49m\u001b[43mxtol\u001b[49m\u001b[43m)\u001b[49m\n\u001b[1;32m     88\u001b[0m \u001b[38;5;28;01mreturn\u001b[39;00m stp, fc[\u001b[38;5;241m0\u001b[39m], gc[\u001b[38;5;241m0\u001b[39m], fval, old_fval, gval[\u001b[38;5;241m0\u001b[39m]\n",
      "File \u001b[0;32m/Library/Frameworks/Python.framework/Versions/3.11/lib/python3.11/site-packages/scipy/optimize/_linesearch.py:160\u001b[0m, in \u001b[0;36mscalar_search_wolfe1\u001b[0;34m(phi, derphi, phi0, old_phi0, derphi0, c1, c2, amax, amin, xtol)\u001b[0m\n\u001b[1;32m    158\u001b[0m \u001b[38;5;28;01mif\u001b[39;00m task[:\u001b[38;5;241m2\u001b[39m] \u001b[38;5;241m==\u001b[39m \u001b[38;5;124mb\u001b[39m\u001b[38;5;124m'\u001b[39m\u001b[38;5;124mFG\u001b[39m\u001b[38;5;124m'\u001b[39m:\n\u001b[1;32m    159\u001b[0m     alpha1 \u001b[38;5;241m=\u001b[39m stp\n\u001b[0;32m--> 160\u001b[0m     phi1 \u001b[38;5;241m=\u001b[39m \u001b[43mphi\u001b[49m\u001b[43m(\u001b[49m\u001b[43mstp\u001b[49m\u001b[43m)\u001b[49m\n\u001b[1;32m    161\u001b[0m     derphi1 \u001b[38;5;241m=\u001b[39m derphi(stp)\n\u001b[1;32m    162\u001b[0m \u001b[38;5;28;01melse\u001b[39;00m:\n",
      "File \u001b[0;32m/Library/Frameworks/Python.framework/Versions/3.11/lib/python3.11/site-packages/scipy/optimize/_linesearch.py:75\u001b[0m, in \u001b[0;36mline_search_wolfe1.<locals>.phi\u001b[0;34m(s)\u001b[0m\n\u001b[1;32m     73\u001b[0m \u001b[38;5;28;01mdef\u001b[39;00m \u001b[38;5;21mphi\u001b[39m(s):\n\u001b[1;32m     74\u001b[0m     fc[\u001b[38;5;241m0\u001b[39m] \u001b[38;5;241m+\u001b[39m\u001b[38;5;241m=\u001b[39m \u001b[38;5;241m1\u001b[39m\n\u001b[0;32m---> 75\u001b[0m     \u001b[38;5;28;01mreturn\u001b[39;00m \u001b[43mf\u001b[49m\u001b[43m(\u001b[49m\u001b[43mxk\u001b[49m\u001b[43m \u001b[49m\u001b[38;5;241;43m+\u001b[39;49m\u001b[43m \u001b[49m\u001b[43ms\u001b[49m\u001b[38;5;241;43m*\u001b[39;49m\u001b[43mpk\u001b[49m\u001b[43m,\u001b[49m\u001b[43m \u001b[49m\u001b[38;5;241;43m*\u001b[39;49m\u001b[43margs\u001b[49m\u001b[43m)\u001b[49m\n",
      "File \u001b[0;32m/Library/Frameworks/Python.framework/Versions/3.11/lib/python3.11/site-packages/scipy/optimize/_differentiable_functions.py:265\u001b[0m, in \u001b[0;36mScalarFunction.fun\u001b[0;34m(self, x)\u001b[0m\n\u001b[1;32m    264\u001b[0m \u001b[38;5;28;01mdef\u001b[39;00m \u001b[38;5;21mfun\u001b[39m(\u001b[38;5;28mself\u001b[39m, x):\n\u001b[0;32m--> 265\u001b[0m     \u001b[38;5;28;01mif\u001b[39;00m \u001b[38;5;129;01mnot\u001b[39;00m \u001b[43mnp\u001b[49m\u001b[38;5;241;43m.\u001b[39;49m\u001b[43marray_equal\u001b[49m\u001b[43m(\u001b[49m\u001b[43mx\u001b[49m\u001b[43m,\u001b[49m\u001b[43m \u001b[49m\u001b[38;5;28;43mself\u001b[39;49m\u001b[38;5;241;43m.\u001b[39;49m\u001b[43mx\u001b[49m\u001b[43m)\u001b[49m:\n\u001b[1;32m    266\u001b[0m         \u001b[38;5;28mself\u001b[39m\u001b[38;5;241m.\u001b[39m_update_x_impl(x)\n\u001b[1;32m    267\u001b[0m     \u001b[38;5;28mself\u001b[39m\u001b[38;5;241m.\u001b[39m_update_fun()\n",
      "File \u001b[0;32m/Library/Frameworks/Python.framework/Versions/3.11/lib/python3.11/site-packages/numpy/core/numeric.py:2439\u001b[0m, in \u001b[0;36marray_equal\u001b[0;34m(a1, a2, equal_nan)\u001b[0m\n\u001b[1;32m   2437\u001b[0m     \u001b[38;5;28;01mreturn\u001b[39;00m \u001b[38;5;28;01mFalse\u001b[39;00m\n\u001b[1;32m   2438\u001b[0m \u001b[38;5;28;01mif\u001b[39;00m \u001b[38;5;129;01mnot\u001b[39;00m equal_nan:\n\u001b[0;32m-> 2439\u001b[0m     \u001b[38;5;28;01mreturn\u001b[39;00m \u001b[38;5;28mbool\u001b[39m(\u001b[43masarray\u001b[49m\u001b[43m(\u001b[49m\u001b[43ma1\u001b[49m\u001b[43m \u001b[49m\u001b[38;5;241;43m==\u001b[39;49m\u001b[43m \u001b[49m\u001b[43ma2\u001b[49m\u001b[43m)\u001b[49m\u001b[38;5;241;43m.\u001b[39;49m\u001b[43mall\u001b[49m\u001b[43m(\u001b[49m\u001b[43m)\u001b[49m)\n\u001b[1;32m   2440\u001b[0m \u001b[38;5;66;03m# Handling NaN values if equal_nan is True\u001b[39;00m\n\u001b[1;32m   2441\u001b[0m a1nan, a2nan \u001b[38;5;241m=\u001b[39m isnan(a1), isnan(a2)\n",
      "File \u001b[0;32m/Library/Frameworks/Python.framework/Versions/3.11/lib/python3.11/site-packages/numpy/core/_methods.py:64\u001b[0m, in \u001b[0;36m_all\u001b[0;34m(a, axis, dtype, out, keepdims, where)\u001b[0m\n\u001b[1;32m     61\u001b[0m \u001b[38;5;28;01mdef\u001b[39;00m \u001b[38;5;21m_all\u001b[39m(a, axis\u001b[38;5;241m=\u001b[39m\u001b[38;5;28;01mNone\u001b[39;00m, dtype\u001b[38;5;241m=\u001b[39m\u001b[38;5;28;01mNone\u001b[39;00m, out\u001b[38;5;241m=\u001b[39m\u001b[38;5;28;01mNone\u001b[39;00m, keepdims\u001b[38;5;241m=\u001b[39m\u001b[38;5;28;01mFalse\u001b[39;00m, \u001b[38;5;241m*\u001b[39m, where\u001b[38;5;241m=\u001b[39m\u001b[38;5;28;01mTrue\u001b[39;00m):\n\u001b[1;32m     62\u001b[0m     \u001b[38;5;66;03m# Parsing keyword arguments is currently fairly slow, so avoid it for now\u001b[39;00m\n\u001b[1;32m     63\u001b[0m     \u001b[38;5;28;01mif\u001b[39;00m where \u001b[38;5;129;01mis\u001b[39;00m \u001b[38;5;28;01mTrue\u001b[39;00m:\n\u001b[0;32m---> 64\u001b[0m         \u001b[38;5;28;01mreturn\u001b[39;00m umr_all(a, axis, dtype, out, keepdims)\n\u001b[1;32m     65\u001b[0m     \u001b[38;5;28;01mreturn\u001b[39;00m umr_all(a, axis, dtype, out, keepdims, where\u001b[38;5;241m=\u001b[39mwhere)\n",
      "\u001b[0;31mKeyboardInterrupt\u001b[0m: "
     ]
    }
   ],
   "source": [
    "# Trying for the new complex variabled version, with 56 variables (NOT using Lagrangian)\n",
    "\n",
    "# takes ~ 16 sec for 100 iterations\n",
    "seeds = []\n",
    "\n",
    "for i in range(300, 5300):\n",
    "    np.random.seed(i)\n",
    "    ig = np.random.rand(56)\n",
    "    sol_317 = minimize(Relation_Res, ig, method='CG', tol=1e-15)\n",
    "    if i%250 == 0:\n",
    "        print(i)\n",
    "    if sol_317.fun < 1e-7:\n",
    "        seeds.append((i,sol_317.fun))\n",
    "        print( i, sol_317.fun)\n",
    "        # print( sol.x, '\\n\\n')\n"
   ]
  },
  {
   "cell_type": "code",
   "execution_count": 54,
   "metadata": {},
   "outputs": [
    {
     "name": "stdout",
     "output_type": "stream",
     "text": [
      "[[ 1.00000000e+00+0.e+00j -0.00000000e+00+0.e+00j -0.00000000e+00+0.e+00j\n",
      "  -0.00000000e+00+0.e+00j  0.00000000e+00-0.e+00j -0.00000000e+00-0.e+00j\n",
      "  -0.00000000e+00+0.e+00j -0.00000000e+00-0.e+00j  0.00000000e+00-0.e+00j]\n",
      " [-0.00000000e+00+0.e+00j  1.00000000e+00+0.e+00j  0.00000000e+00+0.e+00j\n",
      "  -0.00000000e+00-0.e+00j  0.00000000e+00+0.e+00j -0.00000000e+00-0.e+00j\n",
      "   0.00000000e+00-0.e+00j -0.00000000e+00-0.e+00j -0.00000000e+00-0.e+00j]\n",
      " [-0.00000000e+00+0.e+00j  0.00000000e+00+0.e+00j  9.99999998e-01-0.e+00j\n",
      "  -2.00000000e-09+0.e+00j -3.00000000e-09-0.e+00j -2.00000000e-09+1.e-09j\n",
      "  -2.00000000e-09-1.e-09j -2.00000000e-09-1.e-09j -3.00000000e-09-1.e-09j]\n",
      " [-0.00000000e+00-0.e+00j -0.00000000e+00+0.e+00j -2.00000000e-09-0.e+00j\n",
      "   9.99999996e-01+0.e+00j -2.00000000e-09-1.e-09j -2.00000000e-09-1.e-09j\n",
      "  -3.00000000e-09-0.e+00j -0.00000000e+00+0.e+00j -2.00000000e-09+0.e+00j]\n",
      " [ 0.00000000e+00+0.e+00j  0.00000000e+00-0.e+00j -3.00000000e-09+0.e+00j\n",
      "  -2.00000000e-09+1.e-09j  9.99999997e-01+0.e+00j -1.00000000e-09+0.e+00j\n",
      "  -3.00000000e-09-0.e+00j -2.00000000e-09-1.e-09j -3.00000000e-09+0.e+00j]\n",
      " [-0.00000000e+00+0.e+00j -0.00000000e+00+0.e+00j -2.00000000e-09-1.e-09j\n",
      "  -2.00000000e-09+1.e-09j -1.00000000e-09-0.e+00j  1.00000000e+00+0.e+00j\n",
      "  -4.00000000e-09+1.e-09j -2.00000000e-09-0.e+00j -3.00000000e-09-0.e+00j]\n",
      " [-0.00000000e+00-0.e+00j  0.00000000e+00+0.e+00j -2.00000000e-09+1.e-09j\n",
      "  -3.00000000e-09+0.e+00j -3.00000000e-09+0.e+00j -4.00000000e-09-1.e-09j\n",
      "   9.99999997e-01-0.e+00j -2.00000000e-09+1.e-09j -4.00000000e-09+0.e+00j]\n",
      " [-0.00000000e+00+0.e+00j -0.00000000e+00+0.e+00j -2.00000000e-09+1.e-09j\n",
      "  -0.00000000e+00-0.e+00j -2.00000000e-09+1.e-09j -2.00000000e-09+0.e+00j\n",
      "  -2.00000000e-09-1.e-09j  9.99999998e-01+0.e+00j -2.00000000e-09-1.e-09j]\n",
      " [ 0.00000000e+00+0.e+00j -0.00000000e+00+0.e+00j -3.00000000e-09+1.e-09j\n",
      "  -2.00000000e-09-0.e+00j -3.00000000e-09-0.e+00j -3.00000000e-09+0.e+00j\n",
      "  -4.00000000e-09-0.e+00j -2.00000000e-09+1.e-09j  9.99999997e-01-0.e+00j]]\n"
     ]
    }
   ],
   "source": [
    "# s = np.array([-0.06765182,  0.75142385 , 0.07345708, -0.00152039 , 0.01613574 , 0.08847722,  0.2236816  ,-0.99985835 , \n",
    "            # 0.99844276,  0.3956108,   0.2906196,   0.99609524, -0.2216533  , 0.89769822 , 1.29019934, -0.02932978,  \n",
    "            # 0.6434624,  -0.25155432, -0.36271562 , 0.49278895 , 0.11850448,  0.77769661,  0.4958864,   0.75934409,\n",
    "            #   -0.52682382 , 0.53400026 , 0.16225632,  0.65440968,  0.13707977, -0.87482577, -0.2741254  , 0.05410329 ,\n",
    "            # 0.92248669,  1.51988402,  1.05259268, -0.06495915,  0.60924219 , 0.87560399 , 1.45188224, -0.49589504, \n",
    "            #   0.62984922,  0.11388193,  0.48650703 , 0.19327132 , 0.94407672,  0.83293457,  0.09960532, -0.19215606, \n",
    "            # -0.5690733  , 0.25803215 , 0.64642148, -0.71717566,  0.41238326,  0.94021283,  0.57525654 ,-0.81058268])\n",
    "\n",
    "np.random.seed(900)\n",
    "ig = np.random.rand(56)\n",
    "sol_317 = minimize(Relation_Res, ig, method='CG', tol=1e-15)\n",
    "sol_317 = sol_317.x.flatten()\n",
    "povm_900 = povm_create(sol_317).full_POVM\n",
    "\n",
    "# print(np.round(povm_900,4))\n",
    "\n",
    "gram_900 = POVM_gram_matrix(povm_900).gram_matrix\n",
    "\n",
    "print(np.round(gram_900,9))\n"
   ]
  },
  {
   "cell_type": "code",
   "execution_count": 55,
   "metadata": {},
   "outputs": [
    {
     "data": {
      "text/plain": [
       "89.99999980901407"
      ]
     },
     "execution_count": 55,
     "metadata": {},
     "output_type": "execute_result"
    }
   ],
   "source": [
    "# (np.arccos(1e-7/30))*180/m.pi   # ~avergae angle between vectors in degrees"
   ]
  },
  {
   "cell_type": "code",
   "execution_count": 55,
   "metadata": {},
   "outputs": [
    {
     "data": {
      "text/plain": [
       "[(301, 8.106160346151403e-08),\n",
       " (302, 7.308701427270959e-08),\n",
       " (303, 6.209077467295147e-08),\n",
       " (304, 6.078349313770396e-08),\n",
       " (305, 8.284137357480267e-08),\n",
       " (306, 7.294910862793166e-08),\n",
       " (307, 7.443828539688428e-08),\n",
       " (308, 6.597905585667282e-08),\n",
       " (309, 6.620397690390861e-08),\n",
       " (310, 6.9900830101836e-08),\n",
       " (311, 6.235140216480497e-08),\n",
       " (312, 7.68193314993818e-08),\n",
       " (313, 6.461726626374507e-08),\n",
       " (314, 6.244445751407915e-08),\n",
       " (315, 8.129389396781071e-08),\n",
       " (316, 6.138230290013114e-08),\n",
       " (317, 6.796535843840606e-08),\n",
       " (318, 6.778523233529312e-08),\n",
       " (319, 7.947764788540479e-08),\n",
       " (320, 7.894141313559618e-08),\n",
       " (321, 5.768424924866765e-08),\n",
       " (322, 7.071047544811794e-08),\n",
       " (323, 9.127493937536281e-08),\n",
       " (324, 8.550751689802569e-08),\n",
       " (325, 7.924866526443633e-08),\n",
       " (326, 5.7165600427715364e-08),\n",
       " (327, 6.551710042742059e-08),\n",
       " (328, 7.026399567442605e-08),\n",
       " (329, 5.949801044576599e-08),\n",
       " (330, 6.599774407746878e-08),\n",
       " (331, 8.735491931901826e-08),\n",
       " (332, 6.504291028765125e-08),\n",
       " (333, 6.925291148702246e-08),\n",
       " (334, 7.299632571227706e-08),\n",
       " (335, 5.688435859379166e-08),\n",
       " (336, 7.315518459148872e-08),\n",
       " (337, 8.711288582391639e-08),\n",
       " (338, 6.334527072799585e-08),\n",
       " (339, 6.406648254072795e-08),\n",
       " (340, 7.016478485167985e-08),\n",
       " (341, 6.968568000651986e-08),\n",
       " (342, 6.275243280227148e-08),\n",
       " (343, 9.66334457565916e-08),\n",
       " (344, 5.880404292072743e-08),\n",
       " (345, 6.800181556513712e-08),\n",
       " (346, 6.412526476715452e-08),\n",
       " (347, 9.528515320087353e-08),\n",
       " (348, 6.223501142392105e-08),\n",
       " (349, 6.7127634297551e-08),\n",
       " (350, 9.196975065161984e-08),\n",
       " (351, 6.600691411511622e-08),\n",
       " (353, 7.0657291293909e-08),\n",
       " (354, 7.109635045424387e-08),\n",
       " (355, 7.356512421041931e-08),\n",
       " (356, 6.264005105511954e-08),\n",
       " (357, 6.468016966597754e-08),\n",
       " (358, 7.639730367840475e-08),\n",
       " (359, 5.648531319810499e-08),\n",
       " (360, 6.40317708102099e-08),\n",
       " (361, 4.399954273027617e-08),\n",
       " (362, 6.692062171884008e-08),\n",
       " (363, 6.473358285982936e-08),\n",
       " (364, 7.175089585783105e-08),\n",
       " (365, 6.371064083496823e-08),\n",
       " (366, 7.976014168656642e-08),\n",
       " (367, 5.996620023710338e-08),\n",
       " (368, 6.216624200746173e-08),\n",
       " (369, 5.398222208116611e-08),\n",
       " (370, 8.869871407916901e-08),\n",
       " (371, 6.707158966010446e-08),\n",
       " (372, 7.532035941640245e-08),\n",
       " (373, 6.570940668160573e-08),\n",
       " (374, 5.7419931468831646e-08),\n",
       " (375, 6.66326153286232e-08),\n",
       " (377, 7.069323808471037e-08),\n",
       " (378, 6.243907911350444e-08),\n",
       " (379, 6.521476100685362e-08),\n",
       " (380, 6.634898051204723e-08),\n",
       " (381, 6.19325355789082e-08),\n",
       " (382, 5.6590515243313815e-08),\n",
       " (383, 6.148273998256718e-08),\n",
       " (384, 6.480775219232373e-08),\n",
       " (385, 5.806194425207105e-08),\n",
       " (386, 6.948597550494336e-08),\n",
       " (387, 7.027721465493236e-08),\n",
       " (388, 5.525809914557552e-08),\n",
       " (389, 5.926577361369863e-08),\n",
       " (390, 6.395056892947978e-08),\n",
       " (391, 6.481450574978777e-08),\n",
       " (392, 5.478582238156967e-08),\n",
       " (393, 8.852061066159257e-08),\n",
       " (394, 6.895936757841556e-08),\n",
       " (395, 6.9011934405021e-08),\n",
       " (396, 7.596168061885702e-08),\n",
       " (397, 5.652209601514584e-08),\n",
       " (398, 6.174614637878668e-08),\n",
       " (399, 6.810901222436125e-08),\n",
       " (400, 6.6608209756826e-08),\n",
       " (401, 7.088930404912395e-08),\n",
       " (402, 6.149325449198887e-08),\n",
       " (403, 8.003868339793627e-08),\n",
       " (404, 6.505712246426725e-08),\n",
       " (405, 6.641931148488697e-08),\n",
       " (406, 9.617422922012468e-08),\n",
       " (407, 6.77124773737934e-08),\n",
       " (408, 6.47862446416747e-08),\n",
       " (409, 6.377166545981702e-08),\n",
       " (410, 9.504200976418188e-08),\n",
       " (411, 6.651456809772135e-08),\n",
       " (412, 6.541060500776021e-08),\n",
       " (413, 7.28945691945741e-08),\n",
       " (414, 7.865223799262435e-08),\n",
       " (415, 7.240676261437858e-08),\n",
       " (416, 5.3344144286798656e-08),\n",
       " (417, 6.841714696167094e-08),\n",
       " (418, 6.554371430499985e-08),\n",
       " (419, 6.636117857881093e-08),\n",
       " (420, 6.302550485857999e-08),\n",
       " (421, 6.456505664346326e-08),\n",
       " (422, 5.276849095451831e-08),\n",
       " (423, 8.87378569232275e-08),\n",
       " (424, 6.796372596723615e-08),\n",
       " (425, 7.265050084600369e-08),\n",
       " (426, 5.890150374343494e-08),\n",
       " (427, 9.75364370696229e-08),\n",
       " (428, 6.730857418306156e-08),\n",
       " (429, 6.455212220548512e-08),\n",
       " (430, 6.576457215135562e-08),\n",
       " (431, 7.191218423563866e-08),\n",
       " (432, 8.469408469170539e-08)]"
      ]
     },
     "execution_count": 55,
     "metadata": {},
     "output_type": "execute_result"
    }
   ],
   "source": [
    "seeds "
   ]
  },
  {
   "cell_type": "code",
   "execution_count": 8,
   "metadata": {},
   "outputs": [],
   "source": [
    "# create povm and gram matrix for the seed 301\n",
    "\n",
    "np.random.seed(301)\n",
    "ig = np.random.rand(56)\n",
    "sol_317 = minimize(Relation_Res, ig, method='CG', tol=1e-15)\n",
    "sol_317 = sol_317.x.flatten()\n",
    "povm_301 = povm_create(sol_317).full_POVM\n",
    "gram_301 = POVM_gram_matrix(povm_301).gram_matrix"
   ]
  },
  {
   "cell_type": "code",
   "execution_count": 69,
   "metadata": {},
   "outputs": [
    {
     "name": "stdout",
     "output_type": "stream",
     "text": [
      "⎡1.0   0    0    0    0    0    0    0    0 ⎤\n",
      "⎢                                           ⎥\n",
      "⎢ 0   1.0   0    0    0    0    0    0    0 ⎥\n",
      "⎢                                           ⎥\n",
      "⎢ 0    0   1.0   0    0    0    0    0    0 ⎥\n",
      "⎢                                           ⎥\n",
      "⎢ 0    0    0   1.0   0    0    0    0    0 ⎥\n",
      "⎢                                           ⎥\n",
      "⎢ 0    0    0    0   1.0   0    0    0    0 ⎥\n",
      "⎢                                           ⎥\n",
      "⎢ 0    0    0    0    0   1.0   0    0    0 ⎥\n",
      "⎢                                           ⎥\n",
      "⎢ 0    0    0    0    0    0   1.0   0    0 ⎥\n",
      "⎢                                           ⎥\n",
      "⎢ 0    0    0    0    0    0    0   1.0   0 ⎥\n",
      "⎢                                           ⎥\n",
      "⎣ 0    0    0    0    0    0    0    0   1.0⎦\n"
     ]
    }
   ],
   "source": [
    "pprint(sym.Matrix(np.round(gram_301,7)))"
   ]
  },
  {
   "cell_type": "code",
   "execution_count": null,
   "metadata": {},
   "outputs": [],
   "source": []
  },
  {
   "cell_type": "markdown",
   "metadata": {},
   "source": [
    "### Rough"
   ]
  },
  {
   "cell_type": "code",
   "execution_count": 71,
   "metadata": {},
   "outputs": [],
   "source": [
    "# Finding if any elements are proportional to w"
   ]
  },
  {
   "cell_type": "code",
   "execution_count": 77,
   "metadata": {},
   "outputs": [
    {
     "name": "stdout",
     "output_type": "stream",
     "text": [
      "[0, 5, 8, 12, 13]\n"
     ]
    }
   ],
   "source": [
    "import numpy as np\n",
    "\n",
    "def check_proportional_to_w_and_w2(complex_list, tolerance=0.02+0.02j, w=np.exp(2j*np.pi/3)):\n",
    "    proportional_indices = []\n",
    "    w2 = w**2\n",
    "    for idx, num in enumerate(complex_list):\n",
    "        normalized_num = num / np.abs(num) if np.abs(num) != 0 else 0\n",
    "        if (abs(normalized_num.real - w.real) <= tolerance.real and abs(normalized_num.imag - w.imag) <= tolerance.imag) or \\\n",
    "           (abs(normalized_num.real + w.real) <= tolerance.real and abs(normalized_num.imag + w.imag) <= tolerance.imag) or \\\n",
    "           (abs(normalized_num.real - w2.real) <= tolerance.real and abs(normalized_num.imag - w2.imag) <= tolerance.imag) or \\\n",
    "           (abs(normalized_num.real + w2.real) <= tolerance.real and abs(normalized_num.imag + w2.imag) <= tolerance.imag):\n",
    "            proportional_indices.append(idx)\n",
    "    return proportional_indices\n",
    "\n",
    "# Example usage with a dummy list of complex numbers\n",
    "dummy_complex_list = [-w**2, 1+1j, 2+2j, 3+3j, 1+1.01j, -w, 2.01+2j, 3+3.01j, w/2, 1+1.1j, 2.1+2j, 3+3.1j, np.sqrt(6)*(w**2/5), -w**2]\n",
    "\n",
    "proportional_indices_v4 = check_proportional_to_w_and_w2(dummy_complex_list)\n",
    "print(proportional_indices_v4)"
   ]
  },
  {
   "cell_type": "code",
   "execution_count": 85,
   "metadata": {},
   "outputs": [],
   "source": [
    "# run for the complex solution of seeds list\n",
    "complex_sol_list  = []\n",
    "for seed in seeds:\n",
    "    np.random.seed(seed[0])\n",
    "    ig = np.random.rand(56)\n",
    "    sol_317 = minimize(Relation_Res, ig, method='CG', tol=1e-15)\n",
    "    sol_317 = sol_317.x.flatten()\n",
    "    sol_317_complex = [sol_317[i] + 1j*sol_317[i+28] for i in range(28)]\n",
    "    complex_sol_list.append(np.array(sol_317_complex))\n"
   ]
  },
  {
   "cell_type": "code",
   "execution_count": 96,
   "metadata": {},
   "outputs": [
    {
     "data": {
      "text/plain": [
       "[(50, [0, 2, 24]), (61, [4, 18, 21]), (64, [0, 3, 8, 23])]"
      ]
     },
     "execution_count": 96,
     "metadata": {},
     "output_type": "execute_result"
    }
   ],
   "source": [
    "# run through the funciton\n",
    "proportional_indices_list = []\n",
    "for i in range(len(complex_sol_list)):\n",
    "    proportional_indices = check_proportional_to_w_and_w2(complex_sol_list[i])\n",
    "    if len(proportional_indices) > 2:\n",
    "        proportional_indices_list.append((i, proportional_indices))\n",
    "\n",
    "#check for one\n",
    "# proportional_indices = check_proportional_to_w_and_w2(complex_sol_list[4])\n",
    "# proportional_indices\n",
    "\n",
    "proportional_indices_list\n"
   ]
  },
  {
   "cell_type": "code",
   "execution_count": 99,
   "metadata": {},
   "outputs": [
    {
     "data": {
      "text/plain": [
       "[3]"
      ]
     },
     "execution_count": 99,
     "metadata": {},
     "output_type": "execute_result"
    }
   ],
   "source": [
    "check_proportional_to_w_and_w2(complex_sol_list[64], tolerance=0.005+0.005j)"
   ]
  },
  {
   "cell_type": "code",
   "execution_count": null,
   "metadata": {},
   "outputs": [],
   "source": []
  },
  {
   "cell_type": "markdown",
   "metadata": {},
   "source": [
    "### Idea"
   ]
  },
  {
   "cell_type": "markdown",
   "metadata": {},
   "source": [
    "Basically, after finding the unitary in terms of the measurment 9d vectors, we can check the abstract matrix for our system. From this, we can see how the elements of the matrix are correlated because it is only a 6-parameter object. For example, if the matrix element 1,2 is negative of the element 7,5, well, in that case, we know that 7,5 is fixed according to whatever the already-known matrix element 1,2 is. Eg, U_12 = 1 implies U_75 = -1. So, thus knowing a few of those elements from the 27 unknowns, we can start with initial guesses at those points and see if we can find a solution. This solution should converge while keeping those points the same. Alternatively, we can force this condition by modifying the objective function. We would ensure that when the solver changes these elements, the function is not affected. In other words, the function still incorporates these already known values. The solver is actually changing just a dummy variable.\n",
    "\n",
    "it is possible though that the desired matrix is not implemented using our particular apparatus of 3 BS and 3 phase shifters because there are too few variables in our physical system (only 6) while there are too many variables in the nuemann measurement vectors."
   ]
  },
  {
   "cell_type": "code",
   "execution_count": null,
   "metadata": {},
   "outputs": [],
   "source": []
  },
  {
   "cell_type": "markdown",
   "metadata": {},
   "source": [
    "Oh, but actually we can also combine this problem into a more manageable minimum problem which is to basically make a function or make it combine the function out of the 6 parameters and the 27 parameters/36 parameters of the unknown system such that we are minimizing a combined system of all of these parameters and the objective function is the norm of the difference of the two matrices - the abstract system unitary and the POVM unitary related to the POVM solution. The former matrix is a function of first 6 parameters and the second is a function of the 27/54 variables.\n",
    "\n",
    "\n",
    "\n",
    "So basically, one big objective function that directily gives us implemenataion."
   ]
  },
  {
   "cell_type": "markdown",
   "metadata": {},
   "source": []
  }
 ],
 "metadata": {
  "kernelspec": {
   "display_name": "Python 3",
   "language": "python",
   "name": "python3"
  },
  "language_info": {
   "codemirror_mode": {
    "name": "ipython",
    "version": 3
   },
   "file_extension": ".py",
   "mimetype": "text/x-python",
   "name": "python",
   "nbconvert_exporter": "python",
   "pygments_lexer": "ipython3",
   "version": "3.11.4"
  }
 },
 "nbformat": 4,
 "nbformat_minor": 2
}
